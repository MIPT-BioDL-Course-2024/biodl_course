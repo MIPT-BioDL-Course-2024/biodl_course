{
  "cells": [
    {
      "cell_type": "markdown",
      "metadata": {
        "id": "KPrePp_INLoT"
      },
      "source": [
        " <font size=\"6\">Обучение с подкреплением</font>"
      ]
    },
    {
      "cell_type": "markdown",
      "metadata": {
        "id": "XNDl0wizNLoU"
      },
      "source": [
        "# Reinforcement learning (RL)"
      ]
    },
    {
      "cell_type": "markdown",
      "metadata": {
        "id": "JMqIMoBANLoU"
      },
      "source": [
        "В этой лекции мы познакомимся с ещё одной парадигмой машинного обучения, ***обучением с подкреплением***, которая в настоящее время крайне активно развивается и имеет свои приложения в различных предметных областях. Для удобства и непротиворечивости определения данной парадигмы рассмотрим сперва ключевые особенности уже известных нам подходов. В предыдущих лекциях мы с вами познакомились с такими парадигмами машинного обучения, как обучение с учителем (supervised learning) и обучение без учителя (unsupervised learning):\n",
        "\n",
        "**Обучение с учителем:**\n",
        "- Существует исчерпывающий набор данных (датасет), который эмпирически задает распределение признакового описания *объектов* в решаемой задаче.\n",
        "- Для всех объектов в датасете известно соответствующее значение целевой переменной (может быть меткой номера класса, вещественным числом и тому подобным).\n",
        "- Нужно подобрать неизвестную функцию, которая ставит в соответствие признаковому описанию некоторого объекта число — целевую переменную.\n",
        "- Можно построить дифференцируемую функцию (так называемую функцию потерь, loss), которая характеризует качество подобранной функции как аппроксиматора искомой зависимости между признаками и целевой переменной.\n",
        "\n",
        "*Типичный пример* — решение задачи классификации рукописных цифр в датасете MNIST при помощи CNN.\n",
        "\n",
        "**Обучение без учителя:**\n",
        "- Существует исчерпывающий набор данных (датасет), который эмпирически задает распределение признакового описания *объектов* в решаемой задаче.\n",
        "- Для объектов в датасете ***неизвестно*** соответствующее значение целевой переменной.\n",
        "- Нужно преобразовать имеющиеся признаковые описания объектов в новое представление, в котором будут видны закономерности и скрытые связи между ними.\n",
        "\n",
        "*Типичный пример* — использование метода k-средних для решения задачи кластеризации."
      ]
    },
    {
      "cell_type": "markdown",
      "metadata": {
        "id": "ORHhjuCPNLoV"
      },
      "source": [
        "Легко заметить, что ключевой особенностью этих ML-парадигм является работа с ***датасетом*** как с исчерпывающей и не изменяющейся сущностью. По сути, именно набор данных и определяет решаемую в этих подходах задачу."
      ]
    },
    {
      "cell_type": "markdown",
      "metadata": {
        "id": "OoKT6mmiNLoV"
      },
      "source": [
        "### Обучение с подкреплением\n"
      ]
    },
    {
      "cell_type": "markdown",
      "metadata": {
        "id": "HyZh8HfBNLoV"
      },
      "source": [
        "<center><img src=\"https://edunet.kea.su/repo/EduNet-content/dev-2.0/L15/out/sl_rl_comp.png\" alt=\"Drawing\" width=\"700\"></center>\n",
        "\n",
        "<center><em>Обучение с учителем vs обучение с подкреплением</em></center>"
      ]
    },
    {
      "cell_type": "markdown",
      "metadata": {
        "id": "Tep0hEEfNLoV"
      },
      "source": [
        "Легко придумать постановку задачи, в которой невозможно составить такой исчерпывающий датасет. Например, разрабатывая автопилот для автомобиля, мы вряд ли сможем составить обучающую выборку, в которой будут перечислены все возможные дорожные ситуации в условиях плотного городского трафика, для которых к тому же будет известна разметка \"ground true\" целевой переменной о предпочтительном решении автопилота в них."
      ]
    },
    {
      "cell_type": "markdown",
      "metadata": {
        "id": "f_GvLkG6NLoV"
      },
      "source": [
        "Невозможность собрать исчерпывающий датасет во многом может быть связана с тем, как в примере с автопилотом автомобиля, что **результат работы алгоритма может существенно изменить состояние окружающей его среды**, которая и является источником данных. При этом, не имея всей картины возможных действий и их последствий, мы можем предоставить нашему алгоритму возможность взаимодействовать с источником данных (**средой**) и постфактум оценить действия нашего алгоритма (**агента**), и, используя эту оценку, подстроить алгоритм так, чтобы он чаще совершал желательные действия, и реже — нежелательные. В литературе такую оценку называют вознаграждением (**reward**). В этом случае обучение строится таким образом, чтобы алгоритм (агент) стремился максимизировать получаемое вознаграждение."
      ]
    },
    {
      "cell_type": "markdown",
      "metadata": {
        "id": "8R4JnhJWNLoV"
      },
      "source": [
        "Функция вознаграждения ***(reward) в этом случае является аналогом функции потерь*** из парадигмы обучения с учителем, но имеет ряд отличий:\n",
        "\n",
        "- ***может быть определена*** как для одного предсказания алгоритма (решения аганта), так и ***для серии предсказаний***\n",
        "  \n",
        "*Для вычисления функции потерь в парадигме обучения с учителем нам было достаточно одного ответа модели для сравнения с целевой переменной. В свою очередь, reward может быть связан с конкретной последовательностью предсказаний алгоритма (решений). Например: получению очков за победу в шахматной партии соответствует выбор целой последовательности правильных ходов игрока; безаварийная поездка беспилотного автомобиля между двумя точками на карте раскладывается на огромное количество решений о замедлении, ускорении и поворотах.*\n",
        "\n",
        "- ***не обязана быть дифференцируемой***\n",
        "\n",
        "*Весь используемый нами ранее аппарат обучения с учителем основывался на том, что при помощи градиентных методов мы подбирали такие веса модели машинного обучения, чтобы дифференцируемая loss-функция имела при них локальный минимум. Некоторые постановки задач, такие как рассмотренные ранее задачи построения автопилота или написание играющего в шахматы алгоритма, не допускают возможности составить дифференцируемую функцию награды. Убирая требование дифференцируемости reward-функции, мы лишаемся возможности применить известные нам алгоритмы оптимизации, такие как стохастический градиентный спуск и его улучшения.*"
      ]
    },
    {
      "cell_type": "markdown",
      "metadata": {
        "id": "Wp_J742WNLoV"
      },
      "source": [
        "Если у нас есть набор примеров с правильными ответами, то мы используем эту выборку для обучения нашей модели, а после обучения применяем её к неразмеченным данным. Именно этот подход мы использовали, когда обучали классификатор для MNIST, подавая на вход сети картинки с изображениями рукописных цифр и считая градиент для подстройки весов на основе разницы между известным лэйблом цифры и выходом нейросети."
      ]
    },
    {
      "cell_type": "markdown",
      "metadata": {
        "id": "ua-guLfbNLoW"
      },
      "source": [
        "Таким образом, мы можем резюмировать особенности парадигмы обучения с подкреплением.\n",
        "\n",
        "**Обучение с подкреплением**:\n",
        "- Существует произвольный источник данных — среда.\n",
        "- Среда **не обязана** быть определена в виде исчерпывающего и стационарного датасета.\n",
        "- Среда **может** изменяться после каждого предсказания алгоритма (решения агента).\n",
        "- Существует некоторый алгоритм (агент), который строит свое предсказание на основе данных, полученных из среды.\n",
        "- Можно сформулировать количественную оценку характера взаимодействия агента со средой (reward, функцию награды).\n",
        "- Функция награды **не обязана** быть дифференцируемой по весам модели машинного обучения (агента).\n",
        "- Функция награды **может** быть определена для последовательности решений агента."
      ]
    },
    {
      "cell_type": "markdown",
      "metadata": {
        "id": "o2A3Iy5ONLoW"
      },
      "source": [
        "Достаточную интуицию о парадигме обучения с подкреплением и об области решаемых с её помощью задач можно сформировать, если поставить знак **равенства между терминами \"обучение с подкреплением\" и \"обучение методом проб и ошибок\"**."
      ]
    },
    {
      "cell_type": "markdown",
      "metadata": {
        "id": "mZmT_xcrNLoW"
      },
      "source": [
        "<center><img src=\"https://edunet.kea.su/repo/EduNet-content/dev-2.0/L15/out/rl_def.png\" width=\"750\"></center>\n",
        "\n",
        "<center><em>Обучение с подкреплением<em/></center>"
      ]
    },
    {
      "cell_type": "markdown",
      "metadata": {
        "id": "XbJ5uu_2NLoW"
      },
      "source": [
        "## Примеры задач, решаемых с использованием RL"
      ]
    },
    {
      "cell_type": "markdown",
      "metadata": {
        "id": "UHXAsIg-NLoX"
      },
      "source": [
        "- Управление роботами\n",
        "- Боты в играх\n",
        "- Оптимизация архитектур нейросетей\n",
        "- **Drug Discovery**\n",
        "- **Brain-Machine interfaces**\n",
        "- **RLHF**"
      ]
    },
    {
      "cell_type": "markdown",
      "source": [
        "<center><img src=\"https://edunet.kea.su/repo/EduNet-content/dev-2.0/L15/out/rlhf.png\" width=\"900\"></center>\n",
        "\n",
        "<center><em>Source: <a href=\"https://huyenchip.com/2023/05/02/rlhf.html\">RLHF: Reinforcement Learning from Human Feedback</a></em></center>"
      ],
      "metadata": {
        "id": "BwQLhMSChMG0"
      }
    },
    {
      "cell_type": "markdown",
      "metadata": {
        "id": "CuL6m0WHNLoY"
      },
      "source": [
        "## Устоявшаяся терминология"
      ]
    },
    {
      "cell_type": "markdown",
      "metadata": {
        "id": "ht6nI6PONLoY"
      },
      "source": [
        "<center><img src=\"https://edunet.kea.su/repo/EduNet-content/dev-2.0/L15/out/rl_msuai.png\" alt=\"Drawing\" width=\"650\">"
      ]
    },
    {
      "cell_type": "markdown",
      "metadata": {
        "id": "ouo_gzzsNLoY"
      },
      "source": [
        "**Агент** и **среда** — ключевые понятия в обучении с подкреплением.\n",
        "\n",
        "**Агент** — программа, принимающая решение о дальнейших действиях на основе информации о состоянии среды.\n",
        "\n",
        "**Среда** — это всё, с чем агент может прямо или косвенно взаимодействовать. Среда обладает состоянием (**State**). Агент может влиять на среду, совершая какие-то действия (**Actions**), переводя среду при этом из одного состояния в другое и получая какое-то вознаграждение. Среда описывается пространством возможных состояний. Конкретное состояние — вектор в этом пространстве.\n",
        "\n",
        "В зависимости от конкретной задачи агент может наблюдать либо полное состояние среды, либо только некоторую его часть. Во втором случае агенту может потребоваться какое-то внутреннее представление полного состояния, которое будет обновляться по мере получения новых данных.\n",
        "\n",
        "**Функция награды (reward**) — вводимая программистом формула вычисления ценности действия на основе финального результата, ожидания этого результата, промежуточных результатов и любых других параметров, которые будут подсказывать путь к наилучшей последовательности действий агента. Это некоторый аналог функции потерь, без которой непонятно, чему учиться. Например, в шахматах истинная награда — это победа, но взятая фигура соперника тоже ценна и должна увеличивать награду, если мы хотим подсказать агенту, что брать чужие фигуры полезно. Может ли после этого агент получить мат, позарившись на незащищенную фигуру? Да, ровно как и неопытный шахматный игрок.\n",
        "\n",
        "Попытка передать через дополнительные неосновные награды подсказки к получению основной награды называется **reward shaping**.\n",
        "\n",
        "**Эпизод** — серия взаимодействий агента со средой (например, партия в игре)."
      ]
    },
    {
      "cell_type": "markdown",
      "metadata": {
        "id": "QlayfEZuNLoY"
      },
      "source": [
        "# Stateless environment in RL"
      ]
    },
    {
      "cell_type": "markdown",
      "metadata": {
        "id": "e1698ECTNLoZ"
      },
      "source": [
        "Рассмотрим простейший пример среды для задачи обучения с подкреплением:\n",
        "- среда стационарна, т.е. не изменяется во времени\n",
        "- среда не изменяется после действий агента\n",
        "\n",
        "Фактически можно сказать, что такая среда всегда находится в одном состоянии или вообще *не имеет состояния*. Для нас будет важно, что выдаваемый средой reward не обязан быть дифференцируемым, и потому работа агента по взаимодействию с такой вырожденной средой не может быть корректно решена в рамках парадигмы обучения с учителем."
      ]
    },
    {
      "cell_type": "markdown",
      "metadata": {
        "id": "0DyH33dJNLoZ"
      },
      "source": [
        "## Задача о многоруких бандитах"
      ]
    },
    {
      "cell_type": "markdown",
      "metadata": {
        "id": "Ioc4ISM2NLoc"
      },
      "source": [
        "Примером stateless-среды может послужить классическая [задача о многоруких бандитах 📚[wiki]](https://en.wikipedia.org/wiki/Multi-armed_bandit)."
      ]
    },
    {
      "cell_type": "markdown",
      "metadata": {
        "id": "nFeTKcLLNLoc"
      },
      "source": [
        "<center><img src =\"https://edunet.kea.su/repo/EduNet-content/dev-2.0/L15/out/mab.png\" width=\"550\"></center>"
      ]
    },
    {
      "cell_type": "markdown",
      "metadata": {
        "id": "hKDkuHGkNLoc"
      },
      "source": [
        "Согласно условиям данной задачи мы имеем:\n",
        "- $K$ игровых автоматов, которые мы можем дернуть за ручку в надежде получить выигрыш,\n",
        "- $k$-тый игровой автомат возвращает выигрыш с вероятностью $p_k$,\n",
        "- вероятности выигрыша $\\{p_k\\}$ не изменяются во времени и вследствие решений игрока,\n",
        "- вероятности выигрыша неизвестны игроку.\n",
        "\n",
        "**Задача:** игроку необходимо придумать такую стратегию нажатия на рычаги многорукого бандита, которая бы обеспечивала максимум возможного выигрыша.\n",
        "\n",
        "Для того, чтобы приступить к решению этой задачи, нам необходимо создать модель описанной среды. Воспользуемся библиотекой Gymnasium, которую часто используют при решении задач методами обучения с подкреплением."
      ]
    },
    {
      "cell_type": "markdown",
      "metadata": {
        "id": "xZ-cdYCvNLoc"
      },
      "source": [
        "## Gymnasium framework"
      ]
    },
    {
      "cell_type": "markdown",
      "metadata": {
        "id": "0hR2BwgwNLoc"
      },
      "source": [
        "Перед тем, как приступить к созданию интересующей нас среды, разберемся, что такое Gymnasium и какие возможности он предоставляет для обучения с подкреплением.\n",
        "\n",
        "**Gymnasium** (Gym) — это набор инструментов для разработки и сравнения алгоритмов RL, позволяющий стандартизировать взаимодействие между разными алгоритмами RL и средами. Также он предоставляет набор стандартных сред, которые могут, в том числе, использоваться для бенчмаркинга.\n",
        "\n",
        "* [[git] 🐾 Gymnasium](https://github.com/Farama-Foundation/Gymnasium)\n",
        "* [[doc] 🛠️ Документация](https://gymnasium.farama.org/)\n",
        "* [[colab] 🥨 Colab demonstration](https://colab.research.google.com/github/jeffheaton/t81_558_deep_learning/blob/master/t81_558_class_12_01_ai_gym.ipynb)"
      ]
    },
    {
      "cell_type": "markdown",
      "metadata": {
        "id": "qDpbtu18NLoc"
      },
      "source": [
        "Для начала рассмотрим устройство среды Gym в целом.\n",
        "__Среда__ — это некоторая модель мира, отвечающая за предоставление наблюдений и вознаграждений, в которой существует __агент__. Состояние среды будет изменяться в зависимости от действий агента.\n",
        "\n",
        "Рассмотрим для начала стандартную среду MountainCar, в которой стоит задача — довести машину до вершины горы."
      ]
    },
    {
      "cell_type": "markdown",
      "metadata": {
        "id": "G9odhNsiNLod"
      },
      "source": [
        "<img src=\"https://edunet.kea.su/repo/EduNet-web_dependencies/dev-2.0/L15/mountain-car-v0.gif\">"
      ]
    },
    {
      "cell_type": "code",
      "execution_count": null,
      "metadata": {
        "colab": {
          "base_uri": "https://localhost:8080/"
        },
        "id": "ZEAZdTUINLod",
        "outputId": "d5ce97a4-9f7a-460c-8676-b1ae359e75d9"
      },
      "outputs": [
        {
          "output_type": "stream",
          "name": "stdout",
          "text": [
            "\u001b[?25l     \u001b[90m━━━━━━━━━━━━━━━━━━━━━━━━━━━━━━━━━━━━━━━━\u001b[0m \u001b[32m0.0/953.9 kB\u001b[0m \u001b[31m?\u001b[0m eta \u001b[36m-:--:--\u001b[0m\r\u001b[2K     \u001b[91m━━━━━━\u001b[0m\u001b[90m╺\u001b[0m\u001b[90m━━━━━━━━━━━━━━━━━━━━━━━━━━━━━━━━━\u001b[0m \u001b[32m153.6/953.9 kB\u001b[0m \u001b[31m4.6 MB/s\u001b[0m eta \u001b[36m0:00:01\u001b[0m\r\u001b[2K     \u001b[91m━━━━━━━━━━━━━━━━━━━━━━━━\u001b[0m\u001b[91m╸\u001b[0m\u001b[90m━━━━━━━━━━━━━━━\u001b[0m \u001b[32m593.9/953.9 kB\u001b[0m \u001b[31m8.5 MB/s\u001b[0m eta \u001b[36m0:00:01\u001b[0m\r\u001b[2K     \u001b[91m━━━━━━━━━━━━━━━━━━━━━━━━━━━━━━━━━━━━━━━\u001b[0m\u001b[91m╸\u001b[0m \u001b[32m952.3/953.9 kB\u001b[0m \u001b[31m10.0 MB/s\u001b[0m eta \u001b[36m0:00:01\u001b[0m\r\u001b[2K     \u001b[90m━━━━━━━━━━━━━━━━━━━━━━━━━━━━━━━━━━━━━━━━\u001b[0m \u001b[32m953.9/953.9 kB\u001b[0m \u001b[31m8.6 MB/s\u001b[0m eta \u001b[36m0:00:00\u001b[0m\n",
            "\u001b[?25h"
          ]
        }
      ],
      "source": [
        "!pip install -q gymnasium"
      ]
    },
    {
      "cell_type": "code",
      "execution_count": null,
      "metadata": {
        "id": "fgD8MmEcNLod"
      },
      "outputs": [],
      "source": [
        "import gym as openaigym\n",
        "import gymnasium as gym\n",
        "\n",
        "env = gym.make(\"MountainCar-v0\")"
      ]
    },
    {
      "cell_type": "markdown",
      "metadata": {
        "id": "D_-T51ivNLod"
      },
      "source": [
        "В Gym среды представлены классом `gym.Env`, который является унифицированным интерфейсом среды со следующими атрибутами и методами:\n",
        "* `action_space`: описание действий, допустимых в данной среде;\n",
        "* `observation_space`: структура и допустимые значения наблюдений состояния среды;\n",
        "* `reset()`: сбрасывает среду и возвращает случайное исходное состояние;\n",
        "* `step(action)`: метод, продвигающий развитие окружающей среды на одно действие и возвращающий информацию о результате этого действия, а именно:\n",
        "    * observation — следующее наблюдение;\n",
        "    * reward — локальное вознаграждение;\n",
        "    * done — флаг конца эпизода.\n",
        "\n",
        "Также в классе `gym.Env` есть несколько вспомогательных методов, например, `render()`, позволяющий представить наблюдение в понятной человеку форме, но мы не будем их касаться в нашей лекции."
      ]
    },
    {
      "cell_type": "markdown",
      "metadata": {
        "id": "lL7qOz1nNLod"
      },
      "source": [
        "### Пространства действий и наблюдений"
      ]
    },
    {
      "cell_type": "markdown",
      "metadata": {
        "id": "zQWK91CsNLod"
      },
      "source": [
        "Действия агента могут быть дискретными, непрерывными и комбинированными. Дискретные действия представлены фиксированным набором и взаимно исключают друг друга, например, нажатие/отпускание клавиши. Непрерывным действиям соответствуют значения в некотором диапазоне, например, поворот руля от -720 до 720 градусов. В среде мы не ограничены каким-то одним действием, и вполне допустимо одновременное нажатие нескольких кнопок и одновременный поворот руля. Аналогичным образом наблюдения могут быть дискретными (лампочка включена/выключена) или непрерывными (тензоры, соответствующие цветным изображениям).\n",
        "\n",
        "Давайте посмотрим на то, как выглядят пространства действий и наблюдений в среде MountainCar:"
      ]
    },
    {
      "cell_type": "code",
      "execution_count": null,
      "metadata": {
        "colab": {
          "base_uri": "https://localhost:8080/"
        },
        "id": "RizD2oKbNLod",
        "outputId": "746fcfaf-300f-4a83-939c-0e861d90a3eb"
      },
      "outputs": [
        {
          "output_type": "stream",
          "name": "stdout",
          "text": [
            "The action space: Discrete(3)\n",
            "The observation space: Box([-1.2  -0.07], [0.6  0.07], (2,), float32)\n"
          ]
        }
      ],
      "source": [
        "from IPython.display import clear_output\n",
        "\n",
        "\n",
        "# Action and observation space\n",
        "action_space = env.action_space\n",
        "obs_space = env.observation_space\n",
        "\n",
        "clear_output()\n",
        "\n",
        "print(f\"The action space: {action_space}\")\n",
        "print(f\"The observation space: {obs_space}\")"
      ]
    },
    {
      "cell_type": "markdown",
      "metadata": {
        "id": "1__S0b60NLod"
      },
      "source": [
        "Мы видим, что пространство наблюдений и действий представлено некоторыми классами `Box` и `Discrete` соответственно. Что же это за классы? Для объединения нескольких пространств действий (например, непрерывных и дискретных) в одно действие, в Gym существует специальный класс контейнеров.\n",
        "\n",
        "* Класс `Discrete` представляет набор $n$ взаимоисключающих элементов. Например, `Discrete(n=4)` может быть использован для пространства действий с 4 направлениями движения ($\\leftarrow \\downarrow \\rightarrow \\uparrow$).\n",
        "* Класс `Box` представляет n-мерный тензор рациональных чисел в некотором диапазоне `[low, high]`. Например, нажатие педали газа от минимального значения 0 до максимального — 1, можно закодировать как `с`, аналогично наблюдение экрана игры, можно закодировать как `Box(low=0, high=255, shape=(100, 50, 3), dtype=np.float32)`.\n",
        "\n",
        "Давайте посмотрим на диапазон допустимых значений пространства наблюдений в среде MountainCar:"
      ]
    },
    {
      "cell_type": "code",
      "execution_count": null,
      "metadata": {
        "colab": {
          "base_uri": "https://localhost:8080/"
        },
        "id": "ylUx5kKGNLoe",
        "outputId": "9ca10d32-c972-4525-8efc-f51bff540656"
      },
      "outputs": [
        {
          "output_type": "stream",
          "name": "stdout",
          "text": [
            "Upper Bound for Env Observation [0.6  0.07]\n",
            "Lower Bound for Env Observation [-1.2  -0.07]\n"
          ]
        }
      ],
      "source": [
        "print(\"Upper Bound for Env Observation\", env.observation_space.high)\n",
        "print(\"Lower Bound for Env Observation\", env.observation_space.low)"
      ]
    },
    {
      "cell_type": "markdown",
      "metadata": {
        "id": "ZB9TQYPwNLoe"
      },
      "source": [
        "Обе структуры данных происходят от класса `gym.Space`"
      ]
    },
    {
      "cell_type": "code",
      "execution_count": null,
      "metadata": {
        "colab": {
          "base_uri": "https://localhost:8080/"
        },
        "id": "r8d1c5-oNLoe",
        "outputId": "5bdd248f-f15e-4c3b-865c-3256f7c593cb"
      },
      "outputs": [
        {
          "output_type": "stream",
          "name": "stdout",
          "text": [
            "<class 'gymnasium.spaces.discrete.Discrete'>\n",
            "<class 'gymnasium.spaces.box.Box'>\n"
          ]
        }
      ],
      "source": [
        "print(type(env.action_space))\n",
        "print(type(env.observation_space))"
      ]
    },
    {
      "cell_type": "markdown",
      "metadata": {
        "id": "HsYMtBsGNLoe"
      },
      "source": [
        "Также стоит упомянуть еще один дочерний класс  `gym.Space` &mdash; `Tuple`, позволяющий объединять несколько экземпляров класса `gym.Space` вместе. Благодаря этому классу мы можем создавать пространства действий и наблюдений любой сложности.\n",
        "\n",
        "В классе `gym.Space` реализованы методы, позволяющие взаимодействовать с пространствами действий и наблюдений:\n",
        "* `sample()`: возвращает случайный пример из пространства наблюдений,\n",
        "* `contains(x)`: проверяет принадлежность аргумента к пространству наблюдений.\n",
        "\n",
        "Давайте возьмем случайное действие, доступное нам в исходном состоянии среды MountainCar:"
      ]
    },
    {
      "cell_type": "code",
      "execution_count": null,
      "metadata": {
        "colab": {
          "base_uri": "https://localhost:8080/"
        },
        "id": "vDHbZWLvNLoe",
        "outputId": "829b3db7-f9de-49d5-ea6d-9efd533f688f"
      },
      "outputs": [
        {
          "output_type": "stream",
          "name": "stdout",
          "text": [
            "1\n"
          ]
        }
      ],
      "source": [
        "random_action = env.action_space.sample()  # random number from 0 to 2\n",
        "print(random_action)"
      ]
    },
    {
      "cell_type": "markdown",
      "metadata": {
        "id": "YL4TAYoGNLoe"
      },
      "source": [
        "### Взаимодействие со средой"
      ]
    },
    {
      "cell_type": "markdown",
      "metadata": {
        "id": "zG2e41gNNLoe"
      },
      "source": [
        "Давайте попробуем совершить случайное действие, которое мы выбрали выше, для этого перезапустим среду, чтобы вернуться в изначальное состояние, и сделаем шаг с помощью метода `step()`:"
      ]
    },
    {
      "cell_type": "code",
      "execution_count": null,
      "metadata": {
        "colab": {
          "base_uri": "https://localhost:8080/"
        },
        "id": "bTbBJCJhNLoe",
        "outputId": "229f6f70-a53b-4009-e99b-61e9e939ad7c"
      },
      "outputs": [
        {
          "output_type": "stream",
          "name": "stdout",
          "text": [
            "The initial observation is [-0.57499045  0.        ]\n",
            "The new observation is [-5.7460654e-01  3.8391253e-04]\n"
          ]
        }
      ],
      "source": [
        "# Reset the environment and see the initial observation\n",
        "obs, info = env.reset()\n",
        "print(f\"The initial observation is {obs}\")\n",
        "\n",
        "# Take the action and get the new observation space\n",
        "new_obs, reward, done, truncated, info = env.step(random_action)\n",
        "print(f\"The new observation is {new_obs}\")"
      ]
    },
    {
      "cell_type": "markdown",
      "metadata": {
        "id": "w89hdDK0NLoe"
      },
      "source": [
        "### Создание своей среды"
      ]
    },
    {
      "cell_type": "markdown",
      "metadata": {
        "id": "iSVTtpLKNLof"
      },
      "source": [
        "Задача о многоруких бандитах. В этой задаче состояние среды не меняется, а у агента есть фиксированный набор действий, которые он может выполнять.\n",
        "\n",
        "Эту задачу можно представить таким образом: вы игрок в казино с игровыми автоматами, в которых с различной вероятностью возможно выиграть приз различной величины. Ваша задача как агента — выиграть как можно больше денег, бросая монетки в автоматы на ваш выбор.\n",
        "\n",
        "Допустим, в казино находятся 4 автомата, лишь для одного из которых средний выигрыш будет > 1.\n",
        "\n",
        "Давайте напишем класс, который будет описывать эту ситуацию."
      ]
    },
    {
      "cell_type": "code",
      "execution_count": null,
      "metadata": {
        "id": "lg9z3tHFNLof"
      },
      "outputs": [],
      "source": [
        "import random\n",
        "import numpy as np\n",
        "from gym import Env, spaces\n",
        "\n",
        "\n",
        "np.random.seed(42)\n",
        "\n",
        "\n",
        "class MultiArmedBanditEnv(Env):\n",
        "    def __init__(self, n=4):\n",
        "        \"\"\"\n",
        "        n - number of arms in the bandit\n",
        "        \"\"\"\n",
        "        self.num_bandits = n\n",
        "        self.action_space = spaces.Discrete(self.num_bandits)\n",
        "        self.observation_space = spaces.Discrete(1)  # the reward of the last action\n",
        "        self.bandit_success_prob = np.array(\n",
        "            [0.5, 0.1, 0.9, 0.2]\n",
        "        )  # success probabilities\n",
        "        self.bandit_reward = np.array([2, 20, 1, 3])\n",
        "\n",
        "    def step(self, action):\n",
        "        done = True\n",
        "        result_prob = np.random.random()\n",
        "        if result_prob < self.bandit_success_prob[action]:\n",
        "            reward = self.bandit_reward[action]\n",
        "        else:\n",
        "            reward = 0\n",
        "        return reward, done"
      ]
    },
    {
      "cell_type": "markdown",
      "metadata": {
        "id": "r_1-yhfCNLof"
      },
      "source": [
        "## Поиск оптимальной стратегии решения"
      ]
    },
    {
      "cell_type": "markdown",
      "metadata": {
        "id": "gxxCuczANLof"
      },
      "source": [
        "### Жадная стратегия"
      ]
    },
    {
      "cell_type": "markdown",
      "metadata": {
        "id": "xTizGTY1NLof"
      },
      "source": [
        "В нашем казино для того, чтобы принять участие в игре, нужно заплатить 1 монету. После оплаты игрок может нажать на любой рычаг игрового автомата и получить выигрыш с соответствующей вероятностью.\n",
        "\n",
        "Как именно в таком случае мы можем определить, за какой рычаг нам стоит дергать, чтобы максимизировать выигрыш? Ведь мы как игрок не знаем вероятности выигрыша для разных рычагов.\n",
        "\n",
        "Попробуем сделать это жадным способом: на каждом шаге будем совершать действие, имеющее максимальную оценку, и, в зависимости от результата, будем обновлять эту оценку.\n",
        "\n",
        "Давайте разберемся, что она представляет."
      ]
    },
    {
      "cell_type": "markdown",
      "metadata": {
        "id": "LZ1MZqtiNLof"
      },
      "source": [
        "Оценить ценность того или иного действия можно по среднему выигрышу, к которому оно приведет.\n",
        "\n",
        "Пусть $R_n$ — награда, полученная за выполнение $n$-го действия. Тогда оценкой ценности действия будет $\\displaystyle Q_n=\\frac{R_1+R_2+...+R_n}{n}$. Величина $Q_n$ по сути представляет собой простое скользящее среднее (_simple moving average_), которое может вычисляться постепенно:\n",
        "\n",
        "$\\displaystyle Q_n = \\frac{1}{n}(R_n+(n-1)Q_{n-1}) = \\frac{1}{n}(R_n+nQ_{n-1}-Q_{n-1}) = Q_{n-1}+\\frac{1}{n}(R_n-Q_{n-1})$\n",
        "\n",
        "В целом, подобная схема обновления параметров в обучении с подкреплением, представимая как `новая оценка:=старая оценка + шаг[цель — старая оценка]`, встречается довольно часто и называется _incremental update rule_.\n",
        "\n",
        "Для получения оценок действий жадным способом нам понадобится функция `argmax`, которая будет выбирать действие с наибольшей оценкой, а в случае равенства максимальной оценки будет выбирать случайное действие."
      ]
    },
    {
      "cell_type": "code",
      "execution_count": null,
      "metadata": {
        "id": "k4ZAKc7QNLof"
      },
      "outputs": [],
      "source": [
        "def argmax(x):\n",
        "    return np.random.choice(np.flatnonzero(x == x.max()))\n",
        "\n",
        "\n",
        "class GreedyAgent:\n",
        "    def __init__(self):\n",
        "        \"\"\"\n",
        "        Our agent initializes reward estimates as zeros.\n",
        "        This estimates will be updated incrementally after each\n",
        "        interaction with the environment.\n",
        "        \"\"\"\n",
        "        self.reward_estimates = np.zeros(4)\n",
        "        self.action_count = np.zeros(4)\n",
        "        self.cache = 1000  # initial amount of coins agent posesses\n",
        "\n",
        "    def get_action(self):\n",
        "        # Pay 1 coin for the action\n",
        "        self.cache -= 1\n",
        "\n",
        "        # Select greedy action\n",
        "        action = argmax(self.reward_estimates)\n",
        "\n",
        "        # Add a 1 to action selected in the action count\n",
        "        self.action_count[action] += 1\n",
        "\n",
        "        return action\n",
        "\n",
        "    def update_estimates(self, reward, action):\n",
        "        # Update amount of cache by reward from our previuos action\n",
        "        self.cache += reward\n",
        "\n",
        "        # Compute the difference between the received rewards vs the reward estimates\n",
        "        error = reward - self.reward_estimates[action]\n",
        "\n",
        "        # Update the reward estimate incementally\n",
        "        n = self.action_count[action]\n",
        "        self.reward_estimates[action] += (1 / n) * error"
      ]
    },
    {
      "cell_type": "code",
      "execution_count": null,
      "metadata": {
        "colab": {
          "base_uri": "https://localhost:8080/",
          "height": 465
        },
        "id": "Kqlg-nm0NLog",
        "outputId": "c46d6214-4f9b-4231-d5a0-55cc2ff1a905"
      },
      "outputs": [
        {
          "output_type": "stream",
          "name": "stdout",
          "text": [
            "Action counts: [    0.     0. 10000.     0.]\n",
            "Reward estimates: [0.     0.     0.9051 0.    ]\n"
          ]
        },
        {
          "output_type": "display_data",
          "data": {
            "text/plain": [
              "<Figure size 640x480 with 1 Axes>"
            ],
            "image/png": "[encoded data removed]"
          },
          "metadata": {}
        }
      ],
      "source": [
        "import matplotlib.pyplot as plt\n",
        "\n",
        "\n",
        "env = MultiArmedBanditEnv()\n",
        "agent = GreedyAgent()\n",
        "\n",
        "mean_reward_greedy = []\n",
        "rewards = []\n",
        "\n",
        "while (agent.cache > 0) and (len(mean_reward_greedy) != 10000):\n",
        "    act = agent.get_action()\n",
        "    reward, done = env.step(act)\n",
        "    agent.update_estimates(reward, act)\n",
        "    rewards.append(reward)\n",
        "    mean_reward_greedy.append(sum(rewards) / (len(rewards)))\n",
        "\n",
        "print(f\"Action counts: {agent.action_count}\")\n",
        "print(f\"Reward estimates: {agent.reward_estimates}\")\n",
        "plt.plot(mean_reward_greedy)\n",
        "plt.show()"
      ]
    },
    {
      "cell_type": "markdown",
      "metadata": {
        "id": "ZzbU1epzNLog"
      },
      "source": [
        "### $\\epsilon$-жадная стратегия"
      ]
    },
    {
      "cell_type": "markdown",
      "metadata": {
        "id": "BjOzloSnNLog"
      },
      "source": [
        "Видно, что жадная стратегия не позволяет нам добиться оптимального принятия решений, поскольку оптимальную стратегию легко пропустить, если в начале агенту не повезет.\n",
        "\n",
        "Вместо жадной стратегии будем использовать $\\varepsilon$-жадную стратегию, которую можно описать как \"оптимизм при неопределенности\". Суть $\\varepsilon$-жадной стратегии заключается в следующем: с некоторой вероятностью $\\varepsilon$ совершать случайное действие, а с вероятностью $1-\\varepsilon$ вести себя жадно.\n",
        "\n",
        "$\\varepsilon$ — важный параметр алгоритма. Как правило, в начале используют большие значения $\\varepsilon$, тогда агент действует почти случайно и \"исследует мир\", а затем их уменьшают, и действия агента становятся близкими к оптимальным.\n",
        "\n",
        "Выбор величины $\\varepsilon$ связан с так называемым __exploration-exploitation trade-off__. Он может быть легко проиллюстрирован примером, когда вы не можете решить, пойти ли сегодня в любимый ресторан или попробовать сходить в новый? Новый ресторан может оказаться лучшего привычного, но это решение связано с риском разочарования."
      ]
    },
    {
      "cell_type": "markdown",
      "metadata": {
        "id": "bXj4p8hONLog"
      },
      "source": [
        "<img src=\"https://edunet.kea.su/repo/EduNet-content/dev-2.0/L15/out/exploration_vs_exploitation.png\" alt=\"Drawing\" width=\"500\"/>"
      ]
    },
    {
      "cell_type": "code",
      "execution_count": null,
      "metadata": {
        "id": "rz0BlVsWNLog"
      },
      "outputs": [],
      "source": [
        "class EpsilonGreedyAgent(GreedyAgent):\n",
        "    def __init__(self, epsilon):\n",
        "        GreedyAgent.__init__(self)\n",
        "        # Store the epsilon value\n",
        "        assert epsilon >= 0 and epsilon <= 1\n",
        "        self.epsilon = epsilon\n",
        "\n",
        "    def get_action(self):\n",
        "        # We need to redefine this function so that it takes an exploratory action with epsilon probability\n",
        "\n",
        "        # Pay 1 coin for the action\n",
        "        self.cache -= 1\n",
        "        # One hot encoding: 0 if exploratory, 1 otherwise\n",
        "        action_type = int(np.random.random() > self.epsilon)\n",
        "        # Generate both types of actions for every experiment\n",
        "        exploratory_action = np.random.randint(4)\n",
        "        greedy_action = argmax(self.reward_estimates)\n",
        "        # Use the one hot encoding to mask the actions for each experiment\n",
        "        action = greedy_action * action_type + exploratory_action * (1 - action_type)\n",
        "\n",
        "        self.action_count[action] += 1\n",
        "\n",
        "        return action"
      ]
    },
    {
      "cell_type": "code",
      "execution_count": null,
      "metadata": {
        "colab": {
          "base_uri": "https://localhost:8080/",
          "height": 465
        },
        "id": "9tdyX_uvNLog",
        "outputId": "c3662589-db83-4464-f908-abffcf4561ca"
      },
      "outputs": [
        {
          "output_type": "stream",
          "name": "stdout",
          "text": [
            "Action counts: [  91. 9683.  137.   89.]\n",
            "Reward estimates: [0.96703297 2.00970774 0.8540146  0.80898876]\n"
          ]
        },
        {
          "output_type": "display_data",
          "data": {
            "text/plain": [
              "<Figure size 640x480 with 1 Axes>"
            ],
            "image/png": "[encoded data removed]"
          },
          "metadata": {}
        }
      ],
      "source": [
        "agent = EpsilonGreedyAgent(epsilon=0.25)\n",
        "\n",
        "mean_reward_e_greedy = []\n",
        "rewards = []\n",
        "\n",
        "while (agent.cache > 0) and (len(mean_reward_e_greedy) != 10000):\n",
        "    act = agent.get_action()\n",
        "    reward, done = env.step(act)\n",
        "    agent.update_estimates(reward, act)\n",
        "    rewards.append(reward)\n",
        "    mean_reward_e_greedy.append(sum(rewards) / len(rewards))\n",
        "    # Decrease epsilon with time until we reach 0.01 chanse to perform exploratory action\n",
        "    if agent.epsilon > 0.01:\n",
        "        agent.epsilon -= 0.0001\n",
        "\n",
        "print(f\"Action counts: {agent.action_count}\")\n",
        "print(f\"Reward estimates: {agent.reward_estimates}\")\n",
        "plt.plot(mean_reward_greedy)\n",
        "plt.plot(mean_reward_e_greedy)\n",
        "plt.show()"
      ]
    },
    {
      "cell_type": "markdown",
      "metadata": {
        "id": "KGdsmYVaNLog"
      },
      "source": [
        "### softmax-стратегия"
      ]
    },
    {
      "cell_type": "markdown",
      "metadata": {
        "id": "RR8xy7jXNLog"
      },
      "source": [
        "Использование $\\epsilon$-жадной стратегии позволило нам иногда совершать \"разведывательные\" решения, которые могли быть не оптимальны относительно буквальной интерпретации накопленного нами ранее опыта. Аналогичного эффекта мы бы могли достигнуть, если бы определили нашу стратегию принятия решения вероятностной.\n",
        "\n",
        "Пусть мы находимся в состоянии $s$, для которого возможны $K$ действий $\\{a_i\\}$. Определим величину $\\pi(a_i|s)$:\n",
        "- $\\pi(a_i| s)$ — вероятность принять решение $a_i$, если агент находится в состоянии $s$.\n",
        "\n",
        "Данное распределение вероятности принято называть **политикой (policy)**.\n",
        "\n",
        "Для \"игры\" с использованием такой политики нам нужно:\n",
        "1. Вычислить распределение вероятности $\\pi(a_i| s)$.\n",
        "2. Сгенерировать случайное решение $a$, удовлетворяющее данному распределению: $a \\sim \\pi(a_i| s)$."
      ]
    },
    {
      "cell_type": "code",
      "execution_count": null,
      "metadata": {
        "id": "M2VNVvbXNLoh"
      },
      "outputs": [],
      "source": [
        "from numpy.random import choice\n",
        "from scipy.special import softmax\n",
        "\n",
        "\n",
        "class SoftmaxAgent(GreedyAgent):\n",
        "    def __init__(self):\n",
        "        GreedyAgent.__init__(self)\n",
        "\n",
        "    def get_action(self):\n",
        "        # We need to redefine this function so that it takes an action with probability pi(a,s)\n",
        "\n",
        "        # Pay 1 coin for the action\n",
        "        self.cache -= 1\n",
        "\n",
        "        # get \\pi(a_i|s):\n",
        "        pi = softmax(self.reward_estimates)\n",
        "        # sample action\n",
        "        action = choice(np.arange(0, 4, 1), 1, p=pi)[0]\n",
        "\n",
        "        self.action_count[action] += 1\n",
        "\n",
        "        return action"
      ]
    },
    {
      "cell_type": "code",
      "execution_count": null,
      "metadata": {
        "colab": {
          "base_uri": "https://localhost:8080/",
          "height": 465
        },
        "id": "gWrSYjb1NLoh",
        "outputId": "32bc9e46-f6ad-40c5-c1a1-c4782f2ad81b"
      },
      "outputs": [
        {
          "output_type": "stream",
          "name": "stdout",
          "text": [
            "Action counts: [1766. 5262. 1660. 1312.]\n",
            "Reward estimates: [0.99207248 2.05245154 0.89578313 0.59222561]\n"
          ]
        },
        {
          "output_type": "display_data",
          "data": {
            "text/plain": [
              "<Figure size 640x480 with 1 Axes>"
            ],
            "image/png": "[encoded data removed]"
          },
          "metadata": {}
        }
      ],
      "source": [
        "agent = SoftmaxAgent()\n",
        "\n",
        "mean_reward_softmax_agent = []\n",
        "rewards = []\n",
        "\n",
        "while (agent.cache > 0) and (len(mean_reward_softmax_agent) != 10000):\n",
        "    act = agent.get_action()\n",
        "    reward, done = env.step(act)\n",
        "    agent.update_estimates(reward, act)\n",
        "    rewards.append(reward)\n",
        "    mean_reward_softmax_agent.append(sum(rewards) / len(rewards))\n",
        "\n",
        "clear_output()\n",
        "\n",
        "print(f\"Action counts: {agent.action_count}\")\n",
        "print(f\"Reward estimates: {agent.reward_estimates}\")\n",
        "plt.plot(mean_reward_greedy)\n",
        "plt.plot(mean_reward_e_greedy)\n",
        "plt.plot(mean_reward_softmax_agent)\n",
        "plt.show()"
      ]
    },
    {
      "cell_type": "markdown",
      "metadata": {
        "id": "KCUaQFd3NLok"
      },
      "source": [
        "# Марковский процесс принятия решений (Markov decision process, MDP)"
      ]
    },
    {
      "cell_type": "markdown",
      "metadata": {
        "id": "0tsRHAHBNLok"
      },
      "source": [
        "<center><img src=\"https://edunet.kea.su/repo/EduNet-content/dev-2.0/L15/out/mdp.png\" alt=\"Drawing\" width=\"600\">\n",
        "\n",
        "<center><em> Марковский процесс принятия решений<em><center>"
      ]
    },
    {
      "cell_type": "markdown",
      "metadata": {
        "id": "JZLs4VMANLok"
      },
      "source": [
        "## Markov property"
      ]
    },
    {
      "cell_type": "markdown",
      "metadata": {
        "id": "sFSOTEvJNLok"
      },
      "source": [
        "Итак, мы разобрались с самой простой ситуацией, многорукими бандитами, в которой среда постоянно находится в одном и том же состоянии. Однако в реальности чаще всего состояние среды, из которой агент делает новый ход, будет изменяться. Например, при игре в шахматы агент должен учитывать то, что после его хода и хода оппонента позиция на доске изменится.\n",
        "\n",
        "Нам нужно определить некий процесс, в котором агент последовательно переходит из состояния в состояние в зависимости от своих действий, в некоторых состояниях получая награды."
      ]
    },
    {
      "cell_type": "markdown",
      "metadata": {
        "id": "Webhg4IjNLok"
      },
      "source": [
        "Сделаем также важное предположение о природе нашего процесса: **он полностью описывается своим текущим состоянием**. Все, что произойдет в будущем, не зависит от информации из прошлого, кроме той, что мы уже наблюдаем в настоящем. Такой процесс называется __марковским__. Заметим, что описанный нами процесс в примере с многорукими бандитами также является марковским.\n",
        "\n",
        "Приведем другие классические примеры марковского процесса:\n",
        "\n",
        "1. Игральный кубик. Мы знаем, что на нем выпадет любая из граней с некоторой фиксированной вероятностью. На это никак не влияет то, что до этого на кубике выпало 6 шестерок подряд. Это может повлиять на нашу оценку вероятностей выпадения той или иной грани, но не на реальную вероятность.\n",
        "\n",
        "2. Шахматы. \"Текущая позиция на доске + чей ход\" однозначно описывает игру.\n",
        "\n",
        "3. А подходит ли покер?\n",
        "\n",
        "С одной стороны, да. Текущее количество денег у каждого из игроков однозначно описывает игру. Но это если мы не учитываем блеф и другие факторы, которые могут сработать / не сработать в зависимости от предыдущих ситуаций в игре. То есть, все зависит от того, как именно мы будем описывать покер и какие допущения накладываем.\n",
        "\n",
        "И получение хорошего представления S — тоже важная задача."
      ]
    },
    {
      "cell_type": "markdown",
      "metadata": {
        "id": "tl3hoDbQNLok"
      },
      "source": [
        "### Определение Markov Property"
      ]
    },
    {
      "cell_type": "markdown",
      "metadata": {
        "id": "PB6GoFxkNLok"
      },
      "source": [
        "\"*The future is independent of the past given the present*\"\n",
        "\n",
        "Состояние $S_{t}$ является Марковским тогда и только тогда, когда:\n",
        "$$ \\large\n",
        "p\\left(r_{t}, s_{t+1} \\mid s_{0}, a_{0}, r_{0}, \\ldots, s_{t}, a_{t}\\right)=p\\left(r_{t}, s_{t+1} \\mid s_{t}, a_{t}\\right)\n",
        "$$\n",
        "\n",
        "**Что происходит потом, зависит только от предыдущего состояния.**\n",
        "- Вся актуальная информация берется из истории.\n",
        "- Как только состояние среды станет известно, историю можно выбросить.\n",
        "- То есть, состояние среды — достаточная статистика для будущего обучения.\n",
        "\n",
        "Вероятность перехода в новое состояние зависит только от текущего состояния и текущего действия."
      ]
    },
    {
      "cell_type": "markdown",
      "metadata": {
        "id": "Hs7tJnZsNLok"
      },
      "source": [
        "Марковский процесс описывает **полностью наблюдаемые (fully observable)** среды. Можно описать их так:\n",
        "\n",
        "* Информации, которую получает агент в момент времени t, достаточно, чтобы принять оптимальное решение для момента времени t.\n",
        "* Текущее состояние среды содержит всю релевантную информацию из прошлого.\n",
        "* Текущее состояние — это достаточная статистика будущего $\\rightarrow$ не существует никакой дополнительной информации, которая могла бы улучшить наше описание будущего."
      ]
    },
    {
      "cell_type": "markdown",
      "metadata": {
        "id": "FGZp1qBHNLol"
      },
      "source": [
        "## Markov process"
      ]
    },
    {
      "cell_type": "markdown",
      "metadata": {
        "id": "XkcoOhAUNLol"
      },
      "source": [
        "Представим себе, что студент живет вот по такой схеме. Заметим, что влиять в такой схеме на свои решения он не может: все решается подкидыванием кубика."
      ]
    },
    {
      "cell_type": "markdown",
      "metadata": {
        "id": "cHq9jkSLNLol"
      },
      "source": [
        "<img src=\"https://edunet.kea.su/repo/EduNet-content/dev-2.0/L15/out/markov_process.png\" width=\"1000\">"
      ]
    },
    {
      "cell_type": "markdown",
      "metadata": {
        "id": "uSbySCNvNLol"
      },
      "source": [
        "### Определение"
      ]
    },
    {
      "cell_type": "markdown",
      "metadata": {
        "id": "3_spMgmYNLol"
      },
      "source": [
        "Марковский процесс (цепь) — это кортеж $(S, P)$, где\n",
        "- $S$ — принимает дискретные (конечные) значения,\n",
        "- $P$ — матрица переходов (transition matrix):\n",
        "$$\\large\n",
        "P_{s s^{\\prime}}=\\operatorname{Pr}\\left(S_{t+1}=s^{\\prime} \\mid S_{t}=s\\right)\n",
        "$$\n",
        "\n",
        "Строго говоря, необходимо еще распределение начальных состояний (но мы предполагаем, что оно вырождено, т.е. мы знаем, где начинаем, с вероятностью 1).\n",
        "\n",
        "Марковский процесс — основа для RL. Мы будем постепенно усложнять эту модель, добавляя rewards и actions."
      ]
    },
    {
      "cell_type": "markdown",
      "metadata": {
        "id": "8Uf1yChWNLol"
      },
      "source": [
        "В определении нам встретилась матрица переходов, зададим ее тоже формально."
      ]
    },
    {
      "cell_type": "markdown",
      "metadata": {
        "id": "tGUj-p6kNLol"
      },
      "source": [
        "### Марковский процесс принятия решений\n",
        "Markov decision process (MDP)"
      ]
    },
    {
      "cell_type": "markdown",
      "metadata": {
        "id": "HaxfM_T8NLol"
      },
      "source": [
        "До этого у нас получалось не совсем адекватное представление процесса — студент не мог ни на что повлиять. На самом же деле студент может решать, куда ему надо: в аудиторию, домой спать или в бар. Однако наше действие не всегда определяет состояние, в которое мы перейдем."
      ]
    },
    {
      "cell_type": "markdown",
      "metadata": {
        "id": "IAuoQA5tNLol"
      },
      "source": [
        "Хочет наш студент пойти на лекцию, но по пути встречает товарища, и идут они в бар. Хочет он пойти спать, а по пути к выходу из университета встречает лектора с хорошей памятью и идет на лекцию.\n",
        "И т.д.\n",
        "\n",
        "Как это отразить на схеме так, чтобы это можно было прочитать? Введем промежуточные состояния, куда нас переводят действия студента. А уже из этих промежуточных состояний случайно будем переходить в состояния среды.\n",
        "\n"
      ]
    },
    {
      "cell_type": "markdown",
      "metadata": {
        "id": "nXtFMzlcNLol"
      },
      "source": [
        "<img src=\"https://edunet.kea.su/repo/EduNet-content/dev-2.0/L15/out/markov_decision_process_return_random.png\" alt=\"Drawing\" width=\"800\"/>"
      ]
    },
    {
      "cell_type": "markdown",
      "metadata": {
        "id": "rw1a4cpINLol"
      },
      "source": [
        "### Формальное описание MDP"
      ]
    },
    {
      "cell_type": "markdown",
      "metadata": {
        "id": "JzmRMOVkNLol"
      },
      "source": [
        "MDP — это кортеж $(S, A, R, P, \\gamma)$, где:\n",
        "- $S$ — состояния (дискретное пространство),\n",
        "- $A$ — действия (дискретное пространство),\n",
        "- $R$ — функция reward: $R_{s,s'}^{a}$ (мгновенное вознаграждение за переход из состояния $s$ в $s'$ при выборе действия $a$)\n",
        "- $P$ — матрица переходов (transition matrix): $P_{s s^{\\prime}}^{a}=\\operatorname{Pr}\\left(S_{t+1}=s^{\\prime} \\mid S_{t}=s, A_{t}=a\\right)$,\n",
        "- $\\gamma$ — discount factor."
      ]
    },
    {
      "cell_type": "markdown",
      "metadata": {
        "id": "e1dK5odTNLom"
      },
      "source": [
        "### Пример"
      ]
    },
    {
      "cell_type": "markdown",
      "metadata": {
        "id": "bOnHfpzgNLom"
      },
      "source": [
        "<img src=\"https://edunet.kea.su/repo/EduNet-content/dev-2.0/L15/out/markov_decision_process_example.png\" alt=\"Drawing\" width=\"500\"/>"
      ]
    },
    {
      "cell_type": "markdown",
      "metadata": {
        "id": "kaL77gqaNLom"
      },
      "source": [
        "- черные беззнаковые числа — вероятности переходов;\n",
        "- знаковые — это награды."
      ]
    },
    {
      "cell_type": "markdown",
      "metadata": {
        "id": "oRv1U5zANLon"
      },
      "source": [
        "### Функция награды (reward)"
      ]
    },
    {
      "cell_type": "markdown",
      "metadata": {
        "id": "VFU5ENMtNLon"
      },
      "source": [
        "Наши состояния, очевидно, неравноценны. Давайте к каждому состоянию привяжем награду $R_s$.\n",
        "Она может быть как нулевой, так и положительной либо отрицательной.\n",
        "\n",
        "Например, в марковском процессе принятия решений (MDP), описывающем игру в шахматы или GO, награда агента может быть положительной только при переходе в состояние \"партия выиграна\".\n",
        "\n",
        "На всех остальных ходах награда будет нулевой.\n",
        "\n",
        "Для перемещающегося робота награда на каждом шаге может быть отрицательной, так как на перемещение требуется энергия и т.п.\n",
        "\n",
        "Для покера наградой можно назначить изменение текущей суммы игрока после сыгранной раздачи.\n",
        "\n",
        "Схема для студента в этом случае модифицируется следующим образом. Заметьте, награды тут расставляются с точки зрения актора — студента:\n",
        "\n"
      ]
    },
    {
      "cell_type": "markdown",
      "metadata": {
        "id": "rGiQ88MjNLon"
      },
      "source": [
        "<img src=\"https://edunet.kea.su/repo/EduNet-content/dev-2.0/L15/out/markov_reward.png\" width=\"600\">"
      ]
    },
    {
      "cell_type": "markdown",
      "metadata": {
        "id": "IE9z4__VNLon"
      },
      "source": [
        "#### Суммарная награда (Return)"
      ]
    },
    {
      "cell_type": "markdown",
      "metadata": {
        "id": "QQKbjieJNLon"
      },
      "source": [
        "Для турнира по шахматам, где играется 10 партий, финальный reward будет складываться из reward за каждую партию в отдельности.\n",
        "\n",
        "Если у нас есть тест из 40 вопросов, то опять же, нам не важно, как именно мы получили 30 баллов, главное — мы их получили.\n",
        "\n",
        "То есть, в таких случаях мы можем считать Return следующим образом:\n",
        "\n",
        "$$\\text{Return} = \\sum_i {R_i}$$\n",
        "\n",
        "\n",
        "А теперь представим себе, что мы можем работать 2 года бесплатно и получить разом 5 миллионов рублей. А можем работать 2 года и каждый год получать 70 тысяч.\n",
        "\n",
        "\n",
        "Или мы можем 6 лет учиться, получая сторонними активностями 20 тысяч в месяц, а затем сразу начать получать 150 тысяч в месяц, а затем и больше. А можем сразу пойти на работу и начать зарабатывать 50 тысяч в месяц, постепенно дойдя до 100.\n",
        "\n",
        "Что лучше: опубликовать две статьи в журнале с импакт фактором 5 в этом году или одну, но через 2 года и в журнале с импакт-фактором 20?\n",
        "\n",
        "Что выгоднее?\n",
        "\n",
        "Очевидно, в таких ситуациях лучше учитывать не только Reward, но и то, когда он получен."
      ]
    },
    {
      "cell_type": "markdown",
      "metadata": {
        "id": "jctgXwIJNLon"
      },
      "source": [
        "### $\\gamma$-коэффициент дисконтирования"
      ]
    },
    {
      "cell_type": "markdown",
      "metadata": {
        "id": "QkSZj1WjNLon"
      },
      "source": [
        "Поэтому при оценке кумулятивной награды на шаге $t$ $(G_t)$ используется коэффициент дисконтирования $\\gamma$, который показывает, насколько ценными являются будущие награды на текущий момент (см. [Markov Decision Processes (David Silver Lectures) 📚[book]](https://www.davidsilver.uk/wp-content/uploads/2020/03/MDP.pdf)):\n",
        "\n",
        "$$\\large G_t = R_{t+1} + \\gamma R_{t+2} + ... =\\sum^{\\infty}_{k=0} \\gamma ^ kR_{t+k+1},\n",
        "$$\n",
        "\n",
        "где:\n",
        "- $R_{t+1}, R_{t+1}, \\dots$ — вознаграждения по рёбрам переходов,\n",
        "- дисконтирование $\\gamma \\in[0,1]$ — это текущая стоимость будущих вознаграждений,\n",
        "- $\\gamma^{k} R$ — ценность получения награды $R$ после $k+1$ шагов.\n",
        "\n",
        "При этом:\n",
        "- немедленное вознаграждение ценится выше отложенного вознаграждения,\n",
        "- $\\gamma$ близко к 0 приводит к «близорукости»,\n",
        "- $\\gamma$ близко к 1 приводит к «дальновидной» оценке."
      ]
    },
    {
      "cell_type": "markdown",
      "metadata": {
        "id": "W6dGamOgNLon"
      },
      "source": [
        "\n",
        "Какое значение $\\gamma$ выбрать?\n",
        "\n",
        "\n",
        "**Можно ли его выбрать равным 1?**\n",
        "\n",
        "Да, мы уже это делали ранее.\n",
        "\n",
        "**Можно ли его выбрать равным 0?**\n",
        "\n",
        " Тоже да. В этом случае у нас получится \"жадный\" алгоритм: мы всегда выбираем решение, которое дает максимальную награду сейчас, нас не волнуют будущие награды.\n",
        "\n",
        "**Может $\\gamma = 0$ привести к проблемам?**\n",
        "\n",
        "Да, например:\n",
        "\n",
        "* Вариант 1: Получить сегодня 1000 рублей.\n",
        "\n",
        "* Вариант 2: Получить завтра 100000 рублей\n",
        "\n",
        "Обычно, второй вариант более предпочтителен. Но жадный алгоритм его не увидит.\n",
        "\n",
        "\n",
        "\n"
      ]
    },
    {
      "cell_type": "markdown",
      "metadata": {
        "id": "dLqW2RtrNLon"
      },
      "source": [
        "**Может $\\gamma = 1$ привести к проблемам?**\n",
        "\n",
        "Представим себе генератор шуток про медведя. Большая часть людей знает эту шутку, поэтому было бы хорошо посередине вставлять дополнительные детали &mdash; \"для ценителей\". Но заканчиваться шутка должна одинаково.\n",
        "\n",
        "Мы решили написать программу, которая генерирует шутки про медведя. Шутка должна начинаться с \"Шел медведь по лесу\" и заканчиваться \"Сел в машину и сгорел\". Как бы это описать?"
      ]
    },
    {
      "cell_type": "markdown",
      "metadata": {
        "id": "wy9imTCkNLoq"
      },
      "source": [
        "Есть состояния, а модель сама решает, куда ей переходить. Вероятностей мы тут не добавили. Что модель решила, то и будет.\n",
        "\n",
        "Сразу видим и проблему, которую мы получаем при $\\gamma = 1$, пусть и в утрированном виде. Ничто не запрещает нашей модели бесконечно добавлять детали к анекдоту, тем самым увеличивая $G_t$.\n",
        "Работать с такой моделью невозможно.\n",
        "\n",
        "Если в какой-то момент обучения наша модель стала походить на эту, то ничего осмысленного мы и далее не получим. А вот если введением дискаунта дать модели понять, что слушатели анекдота все же хотят вскоре услышать его конец, то проблема уйдет."
      ]
    },
    {
      "cell_type": "markdown",
      "metadata": {
        "id": "ShUOGJqoNLoq"
      },
      "source": [
        "**Обычно $0 \\le \\gamma \\le 1$**\n",
        "\n",
        "Обычно $\\gamma$ ставят равной чему-то между двумя этими крайностями.\n",
        "\n",
        "Близость $\\gamma$ к 0 отражает нашу \"нетерпеливость\" — насколько важно получить награду именно сейчас.\n",
        "\n",
        "Наличие такого $\\gamma$ позволяет нам не делать различия между моделями с ограниченным числом шагов и неограниченным: теперь в любом случае return будет конечным числом, т.к. выражение для return ограничено сверху суммой бесконечно убывающей геометрической прогрессии.\n",
        "\n",
        "Пусть $R_{\\max} = \\max R_i$ — максимальная награда, которую мы в принципе можем получить в каком-то состоянии.\n",
        "\n",
        "$\\displaystyle G_t = R_{t+1} + \\gamma \\cdot R_{t+2} + \\gamma^2 \\cdot R_{t+3} + ... \\le R_{\\max} + \\gamma \\cdot R_{\\max} + \\gamma^2 \\cdot R_{\\max} + ... = R_{\\max} (1 + \\gamma + \\gamma^2 + ... ) \\le R_{\\max} \\cdot \\frac{1}{1-\\gamma} = const $"
      ]
    },
    {
      "cell_type": "markdown",
      "metadata": {
        "id": "it_Q1bMFNLoq"
      },
      "source": [
        "**Discounting makes sums finite**\n",
        "\n",
        "<img src=\"https://edunet.kea.su/repo/EduNet-content/dev-2.0/L15/out/discounting_makes_sums_finite.png\" alt=\"Drawing\" width=\"800\"/>"
      ]
    },
    {
      "cell_type": "markdown",
      "metadata": {
        "id": "S7sPr7byNLoq"
      },
      "source": [
        "\\begin{equation}\n",
        "G_{0}=\\sum_{k=0}^{\\infty} \\gamma^{k}=\\frac{1}{1-\\gamma}\n",
        "\\end{equation}"
      ]
    },
    {
      "cell_type": "markdown",
      "metadata": {
        "id": "hB856dDVNLoq"
      },
      "source": [
        "Важно понимать, что выбор $\\gamma$ меняет задачу, которую мы решаем, и, соответственно, меняет решение."
      ]
    },
    {
      "cell_type": "markdown",
      "metadata": {
        "id": "yT6-bltoNLoq"
      },
      "source": [
        "## Проблема поиска оптимальной политики"
      ]
    },
    {
      "cell_type": "markdown",
      "metadata": {
        "id": "4T59vt-VNLoq"
      },
      "source": [
        "Нужно найти последовательность переходов, которой будет соответствовать максимальная награда ($G_t$)."
      ]
    },
    {
      "cell_type": "markdown",
      "metadata": {
        "id": "7MeYFsTONLoq"
      },
      "source": [
        "#### Политика (policy)"
      ]
    },
    {
      "cell_type": "markdown",
      "metadata": {
        "id": "y9XlPTJeNLor"
      },
      "source": [
        "Политика (policy) $\\pi$ — это функция, которая для текущего состояния $s$ дает распределение вероятностей на множестве действий $A$.\n",
        "\n",
        "$$ \\large\n",
        "\\pi(a|s)=\\mathbb{P}\\left[A_{t}=a \\mid S_{t}=s\\right]\n",
        "$$\n",
        "- Политика полностью определяет поведение агента.\n",
        "- Политики MDP зависят от текущего состояния среды (а не от прошлых состояний).\n",
        "- Т. е. политики являются стационарными (не зависящими от времени):\n",
        "\n",
        "$$ \\large\n",
        "A_{t} \\sim \\pi\\left(\\cdot \\mid S_{t}\\right), \\forall t>0\n",
        "$$\n",
        "\n",
        "Для нашего примера со студентом:\n"
      ]
    },
    {
      "cell_type": "markdown",
      "metadata": {
        "id": "zpZKspgvNLor"
      },
      "source": [
        "<img src=\"https://edunet.kea.su/repo/EduNet-content/dev-2.0/L15/out/markov_policy_example.png\" alt=\"Drawing\" width=\"800\"/>"
      ]
    },
    {
      "cell_type": "markdown",
      "metadata": {
        "id": "OCQj7nHrNLor"
      },
      "source": [
        "#### State-value function $v_{\\pi}(s)$ (V-функция)"
      ]
    },
    {
      "cell_type": "markdown",
      "metadata": {
        "id": "IbBLrLRnNLor"
      },
      "source": [
        "* $v_\\pi(s)$ — измеряет ценность каждого состояния, а именно какое ожидаемое вознаграждение можно получить, если начать двигаться из состояния $s$ в течение всего оставшегося времени, придерживаясь политики $\\pi$.\n",
        "\n",
        "Так, например, агент может следовать политике, заключающейся в переходе между состояниями с высокой ценностью. Однако функция ценности состояния удалена от принятия решений агентом, поскольку агент зачастую не может сам выбрать следующее состояние, в которое перейдет, поскольку на него будет оказываться влияние случайности (например, броски кубиков) или внешних сил (ход оппонента). Поэтому при выборе оптимальной политики рассматривают ценность не состояний, а действий."
      ]
    },
    {
      "cell_type": "markdown",
      "metadata": {
        "id": "U_LYt3rONLor"
      },
      "source": [
        "<center><img src=\"https://edunet.kea.su/repo/EduNet-content/dev-2.0/L15/out/chess.png\" alt=\"Drawing\" width=\"400\"/></center>\n"
      ]
    },
    {
      "cell_type": "markdown",
      "metadata": {
        "id": "6AX22CBkNLor"
      },
      "source": [
        "Формально **V-функция** $v_\\pi(s)$ **вводится в качестве математического ожидания** (по политике $\\pi$ и по MDP среды $P_{s s^{\\prime}}^{a}$) от будущей дисконтированной награды $G_t$, в случае если мы начинаем свои действия в состоянии среды $s$ и будем действовать строго согласно нашей политики $\\pi$:\n",
        "\n",
        "$$\\large\n",
        "\\begin{equation}\n",
        "\\begin{aligned}\n",
        "v_{\\pi}(s) &=\\mathbb{E}_{\\pi}\\left[G_{t} \\mid S_{t}=s\\right]\n",
        "\\end{aligned}\n",
        "\\end{equation}$$"
      ]
    },
    {
      "cell_type": "markdown",
      "metadata": {
        "id": "6QUGtV5CNLor"
      },
      "source": [
        "#### Action-value function $q_{\\pi}(s, a)$ (Q-функция)"
      ]
    },
    {
      "cell_type": "markdown",
      "metadata": {
        "id": "yekYtht-NLor"
      },
      "source": [
        "* $q_\\pi(s,a)$ — аналогично функции ценности состояния, но при условии, что в состоянии $s (s_0 = s)$ было выбрано действие $a$ (мы фиксируем действие). То есть в $q$ мы, в отличие от $v$, фиксируем наше первое действие (не обязательно соответствующее политике), а в $v$ мы первое действие выбираем согласно политике $\\pi$.\n",
        "\n",
        "Формально Q-функция вводится в качестве математического ожидания от будущей дисконтированной награды $G_t$, в случае если мы находясь в состоянии $s$ **выбрали конкретное действие $a$**, а все последующие действия совершали строго согласно политике $\\pi$:\n",
        "\n",
        "$$\\large\n",
        "\\begin{equation}\n",
        "\\begin{aligned}\n",
        "q_{\\pi}(s, a) &=\\mathbb{E}_{\\pi}\\left[G_{t} \\mid S_{t}=s \\mid A_{t}=a\\right].\n",
        "\\end{aligned}\n",
        "\\end{equation}$$\n",
        "\n",
        "Сразу отметим, что Q и V функции, очевидно, связаны. Если мы воспользуемся нашей политикой $\\pi$ для выбора действия $a$, то сразу же придём к определению V-функции (то есть усредним значения Q-функции согласно вероятностям принятия решений, которые задаёт политика):\n",
        "$$\\large\n",
        "\\begin{equation}\n",
        "\\begin{aligned}\n",
        "\\sum_a \\pi(a|s) q_{\\pi}(s, a) &=\\mathbb{E}_{\\pi}\\left[G_{t} \\mid S_{t}=s \\right]\\\\\n",
        "&=v_{\\pi}(s).\n",
        "\\end{aligned}\n",
        "\\end{equation}$$\n",
        "\n",
        "То есть V-функцию легко записать через Q функцию и политику $\\pi$. Обратное соотношение, позволяющее выразить Q функцию через V функцию мы рассмотрим ниже."
      ]
    },
    {
      "cell_type": "markdown",
      "metadata": {
        "id": "vxIkGWrGNLor"
      },
      "source": [
        "#### Уравнение Беллмана"
      ]
    },
    {
      "cell_type": "markdown",
      "metadata": {
        "id": "_qNlwEPRNLor"
      },
      "source": [
        "[Беллман 📚[wiki]](https://en.wikipedia.org/wiki/Richard_E._Bellman) показал, что задача динамической оптимизации в дискретном времени может быть сформулирована в рекурсивной пошаговой форме, путем записи связи между **функцией ценности в текущий период и функцией ценности в следующем периоде**."
      ]
    },
    {
      "cell_type": "markdown",
      "metadata": {
        "id": "HnQJF9U5NLos"
      },
      "source": [
        "$$\\large\n",
        "\\begin{equation}\n",
        "\\begin{aligned}\n",
        "v_{\\pi}(s) &=\\mathbb{E}_{\\pi}\\left[G_{t} \\mid S_{t}=s\\right] \\\\\n",
        "&=\\mathbb{E}_{\\pi}\\left[R_{t+1}+\\gamma R_{t+2}+\\gamma^{2} R_{t+3}+\\ldots \\mid S_{t}=s\\right] \\\\\n",
        "&=\\mathbb{E}_{\\pi}\\left[R_{t+1}+\\gamma\\left(R_{t+2}+\\gamma R_{t+3}+\\ldots\\right) \\mid S_{t}=s\\right] \\\\\n",
        "&=\\mathbb{E}_{\\pi}\\left[R_{t+1}+\\gamma G_{t+1} \\mid S_{t}=s\\right]\\\\\n",
        "&=\\mathbb{E}_{\\pi}\\left[R_{t+1}\\right]+\\mathbb{E}_{\\pi}\\left[\\gamma G_{t+1} \\mid S_{t}=s\\right],\\\\\n",
        "\\end{aligned}\n",
        "\\end{equation}$$\n",
        "где последнее слагаемое можно записать по определению V-функции, учитывая что вероятность перейти из состояния $s$ в возможное состояние $s'$ в момент времени $t$ определяется значением политики $\\pi(a|s)$ и MDP средой $P_{s s^{\\prime}}^{a}$:\n",
        "$$\\large\n",
        "\\begin{equation}\n",
        "\\begin{aligned}\n",
        "\\mathbb{E}_{\\pi}\\left[\\gamma G_{t+1} \\mid S_{t}=s\\right] = \\sum_{a}\\pi(a|s)\\sum_{s}P_{s s^{\\prime}}^{a}\\left[{\\mathbb{E}_{\\pi}\\left[\\gamma G_{t+1} \\mid S_{t+1}=s'\\right]}\\right] = \\sum_{a}\\pi(a|s)\\sum_{s}P_{s s^{\\prime}}^{a}\\left[v_{\\pi}(s')\\right],\n",
        "\\end{aligned}\n",
        "\\end{equation}$$\n",
        "что теперь позволяет записать окончательно так называемое уравнение Беллмана:\n",
        "$$\\Large\n",
        "\\begin{equation}\n",
        "\\begin{aligned}\n",
        "v_{\\pi}(s) = \\mathbb{E}_{\\pi}\\left[R_{t+1}\\right] + \\sum_{a}\\pi(a|s)\\sum_{s}P_{s s^{\\prime}}^{a}\\left[v_{\\pi}(s')\\right].\n",
        "\\end{aligned}\n",
        "\\end{equation}$$\n",
        "\n",
        "***Уравнение Беллмана - рекуррентное соотношение, позволяющее связать значение V-функции для двух последовательных состояний $s$ и $s'$, если нам известна политика $\\pi$ и матрица перехода в MDP $P$.*** Данное уравнение является ключевым результатом для построения всех последующих RL-алгоритмов.\n",
        "\n",
        "Представленный выше вывод можно повторить для Q-функции и записать аналогичное рекуррентное соотношение:\n",
        "$$\\Large\n",
        "\\begin{equation}\n",
        "\\begin{aligned}\n",
        "q_{\\pi}(s, a) = \\mathbb{E}_{\\pi}\\left[R_{t+1}\\right] + \\sum_{a}\\pi(a|s)\\sum_{s}P_{s s^{\\prime}}^{a}\\left[\\sum_{a'}\\pi(a'|s')q_{\\pi}(s', a')\\right].\n",
        "\\end{aligned}\n",
        "\\end{equation}$$\n",
        "\n",
        "Функцию ценности состояния можно представить в виде [резервной диаграммы 🎓[article]](https://openreview.net/pdf/45363cfb2c1b1123fc49b52916f8f3a451e09bbd.pdf) (_backup diagram_):"
      ]
    },
    {
      "cell_type": "markdown",
      "metadata": {
        "id": "6OhuAg-uNLos"
      },
      "source": [
        "<center><img src=\"https://edunet.kea.su/repo/EduNet-content/dev-2.0/L15/out/backup_diagram.png\" alt=\"Drawing\" width=\"800\"/></center>"
      ]
    },
    {
      "cell_type": "markdown",
      "metadata": {
        "id": "szIS4sk6NLos"
      },
      "source": [
        "$ \\mathbf {s} $ — **начальное состояние**, из него исходят стрелки, отображающие **вероятность** совершить то или иное **действие** в соответствии с **политикой** $ \\mathbf{\\pi} $, **действия** $\\mathbf{a}$ обозначаются переходом из кружка в чёрную точку, черные точки обозначают $\\mathbf{q} $.\n"
      ]
    },
    {
      "cell_type": "markdown",
      "metadata": {
        "id": "dFwCsyfsNLos"
      },
      "source": [
        "Если раскрыть знак матожидания для награды $R_t$ получим запись системы уравнений наиболее широко используемую в литературе:\n",
        "\n",
        "$$\n",
        "\\large v_{\\pi}(s) = \\sum_a\\pi(a|s)\\sum_{s'}P_{ss'}^{a}(R_{ss'}^{a}+\\gamma\\mathbb{E}_{\\pi}\\left[G_{t+1}\\mid S_{t+1}=s'\\right]) = \\sum_a\\pi(a|s)\\sum_{s'}P_{ss'}^{a}(R_{ss'}^{a}+\\gamma v_{\\pi}(s')).\n",
        "$$\n",
        "\n",
        "Аналогично для функции ценности действия:\n",
        "\n",
        "$$\n",
        "\\large q_{\\pi}(s, a) = \\sum_{s'}P_{ss'}^{a}(R_{ss'}^{a}+\\gamma\\sum_{a'}\\pi(a'|s') q_{\\pi}(s', a')) = \\sum_{s'}P_{ss'}^{a}(R_{ss'}^{a}+\\gamma \\large v_{\\pi}(s')).\n",
        "$$\n",
        "\n",
        "Важно отметить, что описанные выше рекуррентные соотношения выполняются в том числе и для оптимального выбора политики $\\pi$, к поиску которого мы и стремимся. Для этого воспользуемся ещё одной идеей, которая лежит в определении V и Q функций."
      ]
    },
    {
      "cell_type": "markdown",
      "metadata": {
        "id": "u5qrh4j-NLos"
      },
      "source": [
        "**Принцип оптимальности Беллмана**\n",
        "\n",
        "Беллманом был сформулирован принцип, позволяющий из анализа выписанных выше рекуррентных соотношений определить оптимальную политику принятия решений в MDP.\n",
        "\n",
        "*Оптимальная политика обладает тем свойством, что какими бы ни были начальное состояние и начальное действие, остальные действие должны представлять собой оптимальную политику в отношении состояния, полученного в результате первого действия.*\n",
        " (Bellman, 1957, Chap. III.3.)"
      ]
    },
    {
      "cell_type": "markdown",
      "metadata": {
        "id": "xIlpxM3sNLos"
      },
      "source": [
        "<center><img src=\"https://edunet.kea.su/repo/EduNet-content/dev-2.0/L15/out/bellman_backup_diagram.png\" width=\"600\"/></center>\n",
        "\n",
        "<center><em>Backup Diagram for State Value $v_\\pi(s)$ and Action Value $q_\\pi(s,a)$ with all components</em></center>"
      ]
    },
    {
      "cell_type": "markdown",
      "metadata": {
        "id": "bzEiRxq0NLos"
      },
      "source": [
        "1. Ценность (Value) $v$ в состоянии $s$ — это $v_{\\pi}(s)$\n",
        "\n",
        "2. Из состояния $s$ агент может сделать 3 действия: $(a_1, a_2, a_3)$\n",
        "\n",
        "3. Ценность действия (Action Value) — это $v_{\\pi}(s,a)$, где $a = \\{a_1, a_2, a_3\\}$\n",
        "\n",
        "4. Агент предпринял действие $a_3$. А так он может перейти в состояния $s’_1$, $s’_2$ или $s’_3$ с вероятностью перехода p1, p2 или p3 соответственно\n",
        "\n",
        "5. Полученная награда — $r_1$, $r_2$ или $r_3$ в зависимости от текущего состояния"
      ]
    },
    {
      "cell_type": "markdown",
      "metadata": {
        "id": "KvRcfyOYNLos"
      },
      "source": [
        "Понять это несколько громоздкое определение можно последовательно задав следующие вопросы:\n",
        "\n",
        "1. **Что вообще можно назвать оптимальной политикой?**\n",
        "\n",
        "Оптимальным решением для любого узла графа MDP, очевидно, будет **такой выбор стратегии принятия решений $a$, при котором матожидание будущей дисконтированной награды будет максимально**. Будущую дисконтированную награду измеряет функция V. То есть $\\pi^*$ - оптимальная политика, если среди всех допустимых уравнением Беллмана V-функций $v_{\\pi^*}$ такая, что для любого $s$ она принимает максимально возможное значение ($v_{\\pi^{*}}(s) \\rightarrow max$)\n",
        "\n",
        "2. **Как мы можем оценить значение V-функции для известной политики?**\n",
        "\n",
        "Вместо того, чтобы рассчитывать **ценность состояния** $ \\mathbf{s}$ **на основе ценности всех состояний** $ \\mathbf{s'}$, в которые мы можем перейти, мы можем рассчитать ценность состояния, учитывая ценность всех действий $\\mathbf{a}$, которые мы можем совершить, находясь в состоянии $\\mathbf{s}$. Получаем таким образом выражение одной функции через другую:\n",
        "\n",
        "$$\\large v_{\\pi}(s) = \\sum_a\\pi(a|s)q_{\\pi}(s,a).$$\n",
        "\n",
        "3. **Как оценивать ценность выбора действия для определенного состояния $s$ в MDP?**\n",
        "\n",
        "Для этого мы ввели Q-функцию. В случае нахождения оптимальной политики $q_{\\pi^{*}}$ лучшим с точки зрения матожидания награды будет выбор действия $\\text{argmax}_a q_{\\pi^{*}}(s,a)$. Отсюда сразу следует, что в случае оптимальной игры максимальное значение V функции достигается на максимальном значении Q функции:\n",
        "$$\\large v_{\\pi^*}(s) = \\max_{a(s)}q_{\\pi^*}(s,a) = \\max_{a(s)}\\sum_{s'}P_{ss'}^{a}(R_{ss'}^{a}+\\gamma v_{\\pi^*}(s')).$$\n",
        "\n",
        "\n",
        "**Отсюда сразу следует основной результат для Беллман-оптимальной политики** $\\pi^*$:\n",
        "$$\\large \\pi^*(s) = \\text{argmax}_aq_*(s,a)$$\n",
        "\n",
        "*Примечание: $\\text{argmax}$ может быть заменен на $\\text{softmax}$, если матрица перехода MDP явно зависит от $a$.*"
      ]
    },
    {
      "cell_type": "markdown",
      "metadata": {
        "id": "6_HuEqbTNLos"
      },
      "source": [
        "## Поиск оптимальной политики Беллмана для MDP (решение \"MDP\")"
      ]
    },
    {
      "cell_type": "markdown",
      "metadata": {
        "id": "Ox0ZUJF9NLos"
      },
      "source": [
        "### Методы динамического программирования"
      ]
    },
    {
      "cell_type": "markdown",
      "metadata": {
        "id": "cQog6XTYNLot"
      },
      "source": [
        "Возьмём рассмотренные выше уравнения Беллмана и определим с их помощью  оператор $\\mathcal{T}$ по его действию на $V$ и $Q$ функции:\n",
        "\n",
        "$$\\large \\mathcal{T}[\\color{red}{v}](s) = \\sum_a\\pi(a|s)\\sum_{s'}P_{ss'}^{a}(R_{ss'}^{a}+\\gamma \\color{red}{v(s')}),$$\n",
        "$$\\large \\mathcal{T}[\\color{red}{q}](s,a) = \\sum_{s'}P_{ss'}^{a}(R_{ss'}^{a}+\\gamma\\sum_{a'}\\pi(a'|s') \\color{red}{q(s', a')}).$$\n",
        "\n",
        "Как подробно показано в [Reinforcement Learning: An Introduction 📚[book]](http://incompleteideas.net/book/the-book-2nd.html), такой оператор $\\mathcal{T}$ является *сжимающим*. То есть если взять любую пару функций $V_1$ и $V_2$, найдётся такое неотрицательное число $C$, что:\n",
        "\n",
        "$$\\large || \\mathcal{T}[V_1] - \\mathcal{T}[V_2]|| \\leq C||V_1 - V_2||,$$\n",
        "что означает, что после применения оператора $\\mathcal{T}$ функции $V_1$ и $V_2$ становятся ближе друг к другу.\n",
        "\n",
        "По [теореме о неподвижной точке 📚[wiki]](https://en.wikipedia.org/wiki/Banach_fixed-point_theorem) это означает, что существует как минимум одна функция, которая не изменяется оператором $\\mathcal{T}$. Так как мы построили наш оператор как правую часть уравнения Беллмана, то эта неподвижная точка — искомое нами решение. Отсюда появляется идея итеративного поиска решения для функций $Q$ или $V$:\n",
        "\n",
        "1. Инициализируем произвольную $V_0$.\n",
        "2. Действуем на неё оператором $\\mathcal{T}[V_0] = V_1$.\n",
        "3. Повторяем $\\mathcal{T}[V_k] = V_{k+1}$ пока не  $||V_{k} - V_{k+1}|| \\rightarrow 0$."
      ]
    },
    {
      "cell_type": "markdown",
      "metadata": {
        "id": "K6C-5gJwNLot"
      },
      "source": [
        "#### Policy iteration"
      ]
    },
    {
      "cell_type": "markdown",
      "metadata": {
        "id": "utLU7V6WNLot"
      },
      "source": [
        "Весь процесс поиска оптимальной политики можно разделить на два этапа.\n",
        "\n",
        "**Policy evaluation**\n",
        "\n",
        "Фиксируем произвольную политику $\\pi$ и V-функцию $V_0$. Проведём итерационную процедуру с оператором $\\large \\mathcal{T}[\\color{red}{v}](s)$, пока не сойдёмся к неподвижной точке.\n",
        "\n",
        "**Policy improvement**\n",
        "\n",
        "Теперь мы знаем правило $v$ для нашей политики. Как нам его улучшить?\n",
        "Будем в каждом состоянии менять нашу политику таким образом, чтобы мы шли в состояние с лучшим $q$. Мы могли бы улучшить это, действуя жадно $\\mathrm{q}(\\mathrm{s}, \\mathrm{a}) !$\n",
        "$$\n",
        "\\large\n",
        "\\pi^{\\prime}(s) \\leftarrow \\underset{a}{\\arg \\max } \\overbrace{\\sum_{r, s^{\\prime}} P_{ss'}^a\\left[r+\\gamma v_{\\pi}\\left(s^{\\prime}\\right)\\right]}^{q_{\\pi}(s, a)}\n",
        "$$\n",
        "\n",
        "Эта процедура гарантированно приведет к улучшению политики!\n",
        "\n",
        "$$\n",
        "\\large\n",
        "\\begin{equation}\n",
        "\\begin{aligned}\n",
        "&\\text { если } \\quad q_{\\pi}\\left(s, \\pi^{\\prime}(s)\\right) \\geq v_{\\pi}(s) \\quad \\text { для всех состояний, } \\\\\n",
        "&\\text { тогда } \\quad v_{\\pi^{\\prime}}(s) \\geq v_{\\pi}(s) \\text { означает, } \\\\\n",
        "&\\text { что } \\qquad \\pi^{\\prime} \\geq \\pi .\n",
        "\\end{aligned}\n",
        "\\end{equation}\n",
        "$$\n",
        "\n"
      ]
    },
    {
      "cell_type": "markdown",
      "metadata": {
        "id": "Zd0ErullNLot"
      },
      "source": [
        "<img src=\"https://edunet.kea.su/repo/EduNet-content/dev-2.0/L15/out/policy_iteration.png\" width=\"600\"/>"
      ]
    },
    {
      "cell_type": "markdown",
      "metadata": {
        "id": "juQ7pJKLNLot"
      },
      "source": [
        "Метод действительно сходится:"
      ]
    },
    {
      "cell_type": "markdown",
      "metadata": {
        "id": "X5oIoSXXNLot"
      },
      "source": [
        "<img src=\"https://edunet.kea.su/repo/EduNet-content/dev-2.0/L15/out/convergence_of_method.png\" alt=\"Drawing\" width=\"400\"/>\n",
        "\n"
      ]
    },
    {
      "cell_type": "markdown",
      "metadata": {
        "id": "HvPY_UD4NLot"
      },
      "source": [
        "<img src=\"https://edunet.kea.su/repo/EduNet-content/dev-2.0/L15/out/random_vs_greedy_policy.png\" width=\"1000\"/>"
      ]
    },
    {
      "cell_type": "markdown",
      "metadata": {
        "id": "r7ON6maKNLot"
      },
      "source": [
        "#### Value Iteration"
      ]
    },
    {
      "cell_type": "markdown",
      "metadata": {
        "id": "ASlsRij0NLou"
      },
      "source": [
        "Фактически этап policy evaluation от policy iteration  может быть сокращен различными способами без потери гарантий сходимости policy iteration.\n",
        "\n",
        "Один важный особый случай &mdash; это когда **оценка политики останавливается** сразу **после одного цикла** (одно обновление каждого состояния). Этот алгоритм **называется value iteration**. Его можно записать как простую операцию обновления, которая сочетает в себе этапы улучшения политики и усеченной policy evaluation (один шаг).\n",
        "\n",
        "Это позволяет, в частности, вообще не записывать политику в явном виде, т.к. она однозначно определяется Q-функцией."
      ]
    },
    {
      "cell_type": "markdown",
      "metadata": {
        "id": "dShZo56kNLou"
      },
      "source": [
        "Value iteration (VI) vs. Policy iteration (PI):\n",
        "\n",
        "- VI быстрее за одну итерацию $-\\mathrm{O}\\left(|\\mathrm{A} \\| \\mathrm{S}|^{2}\\right)$\n",
        "- VI требуется много итераций\n",
        "-PI медленнее за одну итерацию $-\\mathrm{O}\\left(|\\mathrm{A} \\| \\mathrm{S}|^{2}+|\\mathrm{S}|^{3}\\right)$\n",
        "- PI требуется мало итераций\n",
        "\n",
        "Проведем эксперимент с каким-то количеством шагов для нахождения лучшей политики."
      ]
    },
    {
      "cell_type": "markdown",
      "metadata": {
        "id": "qjUxGbwjNLou"
      },
      "source": [
        "**Алгоритм**\n",
        "\n",
        "1. Инициализация:\n",
        "\n",
        "- создаем массив V с количеством элементов, равным количеству состояний,\n",
        "- заполняем его нулями.\n",
        "\n",
        "2. Оценка политики (Policy evaluation):\n",
        "\n",
        "- для всех состояний считаем Q(s,a),\n",
        "- обновляем массив V[s] $\\rightarrow$ max(Q(s,a)).\n",
        "\n",
        "*В отличие от Policy iteration, сама политика в памяти не хранится, она генерируется при помощи Q-функции.\n",
        "\n",
        "3. Обновление политики (Policy improvement):\n",
        "\n",
        "- для каждого состояния считаем Q(s,a) для всех a,\n",
        "- выбираем a, для которого Q(s,a) максимально,\n",
        "- если политика изменилась, переходим к шагу 2, иначе останавливаемся."
      ]
    },
    {
      "cell_type": "markdown",
      "metadata": {
        "id": "-O7uyw6-NLou"
      },
      "source": [
        "Теперь давайте построим что-нибудь, чтобы решить эту MDP.\n",
        "\n",
        "Запишем решения для этого MDP. Самый простой алгоритм — это  __V__alue __I__teration.\n",
        "\n",
        "Псевдо код для VI:\n",
        "\n",
        "---\n",
        "\n",
        "`1.` Initialize $V^{(0)}(s)=0$, for all $s$\n",
        "\n",
        "`2.` For $i=0, 1, 2, \\dots$\n",
        "\n",
        "`3.` $ \\quad V_{(i+1)}(s) = \\max_a \\sum_{s'} P_{ss'}^a \\cdot [ R_{ss'}^a + \\gamma V_{i}(s')]$, for all $s$\n",
        "\n",
        "---\n",
        "\n",
        "$R_{ss'}^a$ — награда, соответствующая выбору действия a в s,\n",
        "\n",
        "$s$ — исходное состояние,\n",
        "\n",
        "$s'$ — новое состояние."
      ]
    },
    {
      "cell_type": "markdown",
      "metadata": {
        "id": "ik6qudFpNLou"
      },
      "source": [
        "Функция для вычисления функции значения состояния-действия $Q^{\\pi}$ определяется следующим образом:\n",
        "\n",
        "$$\\large Q_i(s, a) = \\sum_{s'} P_{ss'}^a \\cdot [ R_{ss'}^a + \\gamma V_{i}(s')],$$\n",
        "\n",
        "$s'$ — зависит от вероятности перехода.\n"
      ]
    },
    {
      "cell_type": "code",
      "execution_count": null,
      "metadata": {
        "id": "SahUzkPnNLou"
      },
      "outputs": [],
      "source": [
        "def get_action_value(mdp, state_values, state, action, gamma):\n",
        "    \"\"\"\n",
        "    Computes Q(s,a) as in formula above\n",
        "\n",
        "    mdp : MDP object\n",
        "    state_values : dictionayry of { state_i : V_i }\n",
        "    state: string id of current state\n",
        "    gamma: float discount coeff\n",
        "\n",
        "    \"\"\"\n",
        "\n",
        "    next_states = mdp.get_next_states(state, action)\n",
        "\n",
        "    Q = 0.0\n",
        "\n",
        "    for next_state in next_states.keys():\n",
        "        # alternatively p = mdp.get_transition_prob(state, action, next_state)\n",
        "        p = next_states[next_state]\n",
        "        Q += p * (\n",
        "            mdp.get_reward(state, action, next_state) + gamma * state_values[next_state]\n",
        "        )\n",
        "    return Q"
      ]
    },
    {
      "cell_type": "markdown",
      "metadata": {
        "id": "3Yde6ZG7NLou"
      },
      "source": [
        "Используя $Q(s,a)$, мы можем определить \"следующее\" V(s) для VI:\n",
        "\n",
        "$$\\large V_{(i+1)}(s) = \\max_a \\sum_{s'} P_{ss'}^a \\cdot [ R_{ss'}^a + \\gamma V_{i}(s')] = \\max_a Q_i(s,a)$$"
      ]
    },
    {
      "cell_type": "code",
      "execution_count": null,
      "metadata": {
        "id": "xZadtKDgNLou"
      },
      "outputs": [],
      "source": [
        "def get_new_state_value(mdp, state_values, state, gamma):\n",
        "    \"\"\"Computes next V(s) as in formula above. Please do not change state_values in process.\"\"\"\n",
        "    if mdp.is_terminal(state):\n",
        "        return 0  # Game over\n",
        "\n",
        "    q_max = float(\"-inf\")\n",
        "    actions = mdp.get_possible_actions(state)\n",
        "    for a in actions:\n",
        "        q = get_action_value(mdp, state_values, state, a, gamma)\n",
        "        q_max = max(q_max, q)\n",
        "    return q_max"
      ]
    },
    {
      "cell_type": "markdown",
      "metadata": {
        "id": "CPnOMd-7NLou"
      },
      "source": [
        "Наконец, объединим все, что мы написали, в алгоритм итерации рабочего значения."
      ]
    },
    {
      "cell_type": "code",
      "execution_count": null,
      "metadata": {
        "colab": {
          "base_uri": "https://localhost:8080/",
          "height": 453
        },
        "id": "EB9hL3WrNLov",
        "outputId": "72eca9e8-60de-4fed-c2c1-e414c3862149"
      },
      "outputs": [
        {
          "output_type": "display_data",
          "data": {
            "image/jpeg": "[encoded data removed]"
          },
          "metadata": {}
        }
      ],
      "source": [
        "# parameters\n",
        "gamma = 0.9  # discount for MDP\n",
        "num_iter = 100  # maximum iterations, excluding initialization\n",
        "# stop VI if new values are this close to old values (or closer)\n",
        "min_difference = 0.001\n",
        "\n",
        "# initialize V(s)\n",
        "state_values = {s: 0 for s in mdp.get_all_states()}\n",
        "\n",
        "display_jpeg(MDP.plot_graph_with_state_values(mdp, state_values))"
      ]
    },
    {
      "cell_type": "markdown",
      "metadata": {
        "id": "CbfteZjmNLov"
      },
      "source": [
        "Здесь нет никакого \"текущего состояния\"! Добавим матрицу состояний и построим новый граф:"
      ]
    },
    {
      "cell_type": "code",
      "execution_count": null,
      "metadata": {
        "colab": {
          "base_uri": "https://localhost:8080/"
        },
        "id": "r3bneOJSNLov",
        "outputId": "eb859256-15c9-4e70-c554-1fa0c693e3a1"
      },
      "outputs": [
        {
          "output_type": "stream",
          "name": "stdout",
          "text": [
            "iter    0   |   diff: 3.50000   |   V(s0) = 0.000   V(s1) = 0.000   V(s2) = 0.000\n",
            "iter    1   |   diff: 0.64500   |   V(s0) = 0.000   V(s1) = 3.500   V(s2) = 0.000\n",
            "iter    2   |   diff: 0.58050   |   V(s0) = 0.000   V(s1) = 3.815   V(s2) = 0.645\n",
            "iter    3   |   diff: 0.43582   |   V(s0) = 0.581   V(s1) = 3.959   V(s2) = 0.962\n",
            "iter    4   |   diff: 0.30634   |   V(s0) = 0.866   V(s1) = 4.395   V(s2) = 1.272\n",
            "iter    5   |   diff: 0.27571   |   V(s0) = 1.145   V(s1) = 4.670   V(s2) = 1.579\n",
            "iter    6   |   diff: 0.24347   |   V(s0) = 1.421   V(s1) = 4.926   V(s2) = 1.838\n",
            "iter    7   |   diff: 0.21419   |   V(s0) = 1.655   V(s1) = 5.169   V(s2) = 2.075\n",
            "iter    8   |   diff: 0.19277   |   V(s0) = 1.868   V(s1) = 5.381   V(s2) = 2.290\n",
            "iter    9   |   diff: 0.17327   |   V(s0) = 2.061   V(s1) = 5.573   V(s2) = 2.481\n",
            "iter   10   |   diff: 0.15569   |   V(s0) = 2.233   V(s1) = 5.746   V(s2) = 2.654\n",
            "iter   11   |   diff: 0.14012   |   V(s0) = 2.389   V(s1) = 5.902   V(s2) = 2.810\n",
            "iter   12   |   diff: 0.12610   |   V(s0) = 2.529   V(s1) = 6.042   V(s2) = 2.950\n",
            "iter   13   |   diff: 0.11348   |   V(s0) = 2.655   V(s1) = 6.168   V(s2) = 3.076\n",
            "iter   14   |   diff: 0.10213   |   V(s0) = 2.769   V(s1) = 6.282   V(s2) = 3.190\n",
            "iter   15   |   diff: 0.09192   |   V(s0) = 2.871   V(s1) = 6.384   V(s2) = 3.292\n",
            "iter   16   |   diff: 0.08272   |   V(s0) = 2.963   V(s1) = 6.476   V(s2) = 3.384\n",
            "iter   17   |   diff: 0.07445   |   V(s0) = 3.045   V(s1) = 6.558   V(s2) = 3.467\n",
            "iter   18   |   diff: 0.06701   |   V(s0) = 3.120   V(s1) = 6.633   V(s2) = 3.541\n",
            "iter   19   |   diff: 0.06031   |   V(s0) = 3.187   V(s1) = 6.700   V(s2) = 3.608\n",
            "iter   20   |   diff: 0.05428   |   V(s0) = 3.247   V(s1) = 6.760   V(s2) = 3.668\n",
            "iter   21   |   diff: 0.04885   |   V(s0) = 3.301   V(s1) = 6.814   V(s2) = 3.723\n",
            "iter   22   |   diff: 0.04396   |   V(s0) = 3.350   V(s1) = 6.863   V(s2) = 3.771\n",
            "iter   23   |   diff: 0.03957   |   V(s0) = 3.394   V(s1) = 6.907   V(s2) = 3.815\n",
            "iter   24   |   diff: 0.03561   |   V(s0) = 3.434   V(s1) = 6.947   V(s2) = 3.855\n",
            "iter   25   |   diff: 0.03205   |   V(s0) = 3.469   V(s1) = 6.982   V(s2) = 3.891\n",
            "iter   26   |   diff: 0.02884   |   V(s0) = 3.502   V(s1) = 7.014   V(s2) = 3.923\n",
            "iter   27   |   diff: 0.02596   |   V(s0) = 3.530   V(s1) = 7.043   V(s2) = 3.951\n",
            "iter   28   |   diff: 0.02336   |   V(s0) = 3.556   V(s1) = 7.069   V(s2) = 3.977\n",
            "iter   29   |   diff: 0.02103   |   V(s0) = 3.580   V(s1) = 7.093   V(s2) = 4.001\n",
            "iter   30   |   diff: 0.01892   |   V(s0) = 3.601   V(s1) = 7.114   V(s2) = 4.022\n",
            "iter   31   |   diff: 0.01703   |   V(s0) = 3.620   V(s1) = 7.133   V(s2) = 4.041\n",
            "iter   32   |   diff: 0.01533   |   V(s0) = 3.637   V(s1) = 7.150   V(s2) = 4.058\n",
            "iter   33   |   diff: 0.01380   |   V(s0) = 3.652   V(s1) = 7.165   V(s2) = 4.073\n",
            "iter   34   |   diff: 0.01242   |   V(s0) = 3.666   V(s1) = 7.179   V(s2) = 4.087\n",
            "iter   35   |   diff: 0.01117   |   V(s0) = 3.678   V(s1) = 7.191   V(s2) = 4.099\n",
            "iter   36   |   diff: 0.01006   |   V(s0) = 3.689   V(s1) = 7.202   V(s2) = 4.110\n",
            "iter   37   |   diff: 0.00905   |   V(s0) = 3.699   V(s1) = 7.212   V(s2) = 4.121\n",
            "iter   38   |   diff: 0.00815   |   V(s0) = 3.708   V(s1) = 7.221   V(s2) = 4.130\n",
            "iter   39   |   diff: 0.00733   |   V(s0) = 3.717   V(s1) = 7.230   V(s2) = 4.138\n",
            "iter   40   |   diff: 0.00660   |   V(s0) = 3.724   V(s1) = 7.237   V(s2) = 4.145\n",
            "iter   41   |   diff: 0.00594   |   V(s0) = 3.731   V(s1) = 7.244   V(s2) = 4.152\n",
            "iter   42   |   diff: 0.00534   |   V(s0) = 3.736   V(s1) = 7.249   V(s2) = 4.158\n",
            "iter   43   |   diff: 0.00481   |   V(s0) = 3.742   V(s1) = 7.255   V(s2) = 4.163\n",
            "iter   44   |   diff: 0.00433   |   V(s0) = 3.747   V(s1) = 7.260   V(s2) = 4.168\n",
            "iter   45   |   diff: 0.00390   |   V(s0) = 3.751   V(s1) = 7.264   V(s2) = 4.172\n",
            "iter   46   |   diff: 0.00351   |   V(s0) = 3.755   V(s1) = 7.268   V(s2) = 4.176\n",
            "iter   47   |   diff: 0.00316   |   V(s0) = 3.758   V(s1) = 7.271   V(s2) = 4.179\n",
            "iter   48   |   diff: 0.00284   |   V(s0) = 3.762   V(s1) = 7.275   V(s2) = 4.183\n",
            "iter   49   |   diff: 0.00256   |   V(s0) = 3.764   V(s1) = 7.277   V(s2) = 4.185\n",
            "iter   50   |   diff: 0.00230   |   V(s0) = 3.767   V(s1) = 7.280   V(s2) = 4.188\n",
            "iter   51   |   diff: 0.00207   |   V(s0) = 3.769   V(s1) = 7.282   V(s2) = 4.190\n",
            "iter   52   |   diff: 0.00186   |   V(s0) = 3.771   V(s1) = 7.284   V(s2) = 4.192\n",
            "iter   53   |   diff: 0.00168   |   V(s0) = 3.773   V(s1) = 7.286   V(s2) = 4.194\n",
            "iter   54   |   diff: 0.00151   |   V(s0) = 3.775   V(s1) = 7.288   V(s2) = 4.196\n",
            "iter   55   |   diff: 0.00136   |   V(s0) = 3.776   V(s1) = 7.289   V(s2) = 4.197\n",
            "iter   56   |   diff: 0.00122   |   V(s0) = 3.778   V(s1) = 7.291   V(s2) = 4.199\n",
            "iter   57   |   diff: 0.00110   |   V(s0) = 3.779   V(s1) = 7.292   V(s2) = 4.200\n",
            "iter   58   |   diff: 0.00099   |   V(s0) = 3.780   V(s1) = 7.293   V(s2) = 4.201\n",
            "Terminated\n"
          ]
        }
      ],
      "source": [
        "for i in range(num_iter):\n",
        "    # Compute new state values using the functions you defined above.\n",
        "    # It must be a dict {state : float V_new(state)}\n",
        "\n",
        "    new_state_values = {}\n",
        "    for s in state_values.keys():\n",
        "        new_state_values[s] = get_new_state_value(mdp, state_values, s, gamma)\n",
        "\n",
        "    # Compute difference\n",
        "    diff = max(abs(new_state_values[s] - state_values[s]) for s in mdp.get_all_states())\n",
        "    print(\"iter %4i   |   diff: %6.5f   |   \" % (i, diff), end=\"\")\n",
        "    print(\"   \".join(\"V(%s) = %.3f\" % (s, v) for s, v in state_values.items()))\n",
        "    state_values = new_state_values\n",
        "\n",
        "    if diff < min_difference:\n",
        "        print(\"Terminated\")\n",
        "        break"
      ]
    },
    {
      "cell_type": "code",
      "execution_count": null,
      "metadata": {
        "colab": {
          "base_uri": "https://localhost:8080/",
          "height": 391
        },
        "id": "dAG79gBFNLov",
        "outputId": "95808536-d3c8-47f7-b681-2c72d6f1e2bc"
      },
      "outputs": [
        {
          "output_type": "display_data",
          "data": {
            "image/jpeg": "[encoded data removed]"
          },
          "metadata": {}
        }
      ],
      "source": [
        "display_jpeg(MDP.plot_graph_with_state_values(mdp, state_values))"
      ]
    },
    {
      "cell_type": "markdown",
      "metadata": {
        "id": "yHpd5LsRNLov"
      },
      "source": [
        "Теперь воспользуемся этим $V^{*}(s)$, чтобы найти оптимальные действия в каждом состоянии:\n",
        "\n",
        " $$\\pi^*(s) = \\text{argmax}_a \\sum_{s'} P_{ss'}^a \\cdot [ R_{ss'}^a + \\gamma V_{i}(s')] = \\text{argmax}_a Q_i(s,a)$$\n",
        "\n",
        "Единственное отличие от $V(s)$ в том, что здесь мы берем не $\\max$, а $\\text{argmax}$: найти действие с максимальным $Q(s,a)$."
      ]
    },
    {
      "cell_type": "code",
      "execution_count": null,
      "metadata": {
        "id": "PpgkMvW1NLov"
      },
      "outputs": [],
      "source": [
        "def get_optimal_action(mdp, state_values, state, gamma=0.9):\n",
        "    \"\"\"Finds optimal action using formula above.\"\"\"\n",
        "    if mdp.is_terminal(state):\n",
        "        return None\n",
        "\n",
        "    best_action = None\n",
        "    q_max = float(\"-inf\")\n",
        "    actions = mdp.get_possible_actions(state)\n",
        "    for a in actions:\n",
        "        q = get_action_value(mdp, state_values, state, a, gamma)\n",
        "        if q > q_max:\n",
        "            best_action = a\n",
        "            q_max = q\n",
        "\n",
        "    return best_action"
      ]
    },
    {
      "cell_type": "code",
      "execution_count": null,
      "metadata": {
        "colab": {
          "base_uri": "https://localhost:8080/",
          "height": 423
        },
        "id": "bF9fORuJNLov",
        "outputId": "6c058a8c-7bd0-436c-ab14-3fbac32ac78c"
      },
      "outputs": [
        {
          "output_type": "display_data",
          "data": {
            "image/jpeg": "[encoded data removed]"
          },
          "metadata": {}
        }
      ],
      "source": [
        "display_jpeg(\n",
        "    MDP.plot_graph_optimal_strategy_and_state_values(\n",
        "        mdp, state_values, get_action_value\n",
        "    )\n",
        ")"
      ]
    },
    {
      "cell_type": "code",
      "execution_count": null,
      "metadata": {
        "colab": {
          "base_uri": "https://localhost:8080/"
        },
        "id": "kyGApIxCNLov",
        "outputId": "eb451f19-7f56-4ab2-d897-bf7e49ff2257"
      },
      "outputs": [
        {
          "output_type": "stream",
          "name": "stdout",
          "text": [
            "average reward:  0.4532\n"
          ]
        }
      ],
      "source": [
        "import numpy as np\n",
        "\n",
        "# Measure agent's average reward\n",
        "\n",
        "s = mdp.reset()\n",
        "rewards = []\n",
        "for _ in range(10000):\n",
        "    s, r, done, _ = mdp.step(get_optimal_action(mdp, state_values, s, gamma))\n",
        "    rewards.append(r)\n",
        "\n",
        "print(\"average reward: \", np.mean(rewards))\n",
        "\n",
        "assert 0.40 < np.mean(rewards) < 0.55"
      ]
    },
    {
      "cell_type": "markdown",
      "metadata": {
        "id": "R-l-UTReNLov"
      },
      "source": [
        "### Temporal difference (TD)-обучение (TD-learning)"
      ]
    },
    {
      "cell_type": "markdown",
      "metadata": {
        "id": "i7Wa1O62NLov"
      },
      "source": [
        "Итак, в тех случаях, когда известна вероятность $P_{ss'}^a$, задача обучения может быть решена с помощью методов динамического программирования, как было рассмотрено выше. В реальных же задачах динамика среды зачастую неизвестна. Два главных подхода, позволяющие обходить незнание динамики среды, включают __метод Монте Карло__ (MC) и  __temporal difference (TD)-обучение__ (TD-learning). Оба эти подхода основываются на симулировании опыта взаимодействия со средой в виде __траекторий__ (MDP trajectory)."
      ]
    },
    {
      "cell_type": "markdown",
      "metadata": {
        "id": "vWCdrPApNLow"
      },
      "source": [
        "**MDP trajectory**\n",
        "\n",
        "<img src=\"https://edunet.kea.su/repo/EduNet-content/dev-2.0/L15/out/q_learning_scheme.png\" alt=\"Drawing\" width=\"500\"/>"
      ]
    },
    {
      "cell_type": "markdown",
      "metadata": {
        "id": "EkRaheZtNLow"
      },
      "source": [
        "Траектория представляет из себя последовательность\n",
        "\n",
        "• states ($s$)\n",
        "• actions ($a$)\n",
        "• rewards ($r$)\n",
        "\n",
        "При этом MC оперирует полными траекториями, оканчивающимися в терминальном состоянии, а TD-learning позволяет учиться на неполных эпизодах, не дожидаясь конечного состояния."
      ]
    },
    {
      "cell_type": "markdown",
      "metadata": {
        "id": "LvUEBPsANLow"
      },
      "source": [
        "<img src=\"https://edunet.kea.su/repo/EduNet-content/dev-2.0/L15/out/TD_MC_DP_backups_.png\" alt=\"Drawing\" width=\"900\"/>"
      ]
    },
    {
      "cell_type": "markdown",
      "metadata": {
        "id": "B0oW6kaINLow"
      },
      "source": [
        "Рассмотрим второй подход подробнее.\n",
        "\n",
        "**TD-learning** — один из наиболее мощных подходов, используемых во многих алгоритмах RL. Смысл в том, чтобы **обновлять оценки ценности** (состояния или действия) на **основе уже обученных оценок** для последующих состояний. Эту процедуру можно представить как \"подтягивание\" значения функции ценности того состояния, в котором мы находились на предыдущем шаге, к значению функции ценности того состояния, в котором мы находимся сейчас. Каким образом это можно сделать?"
      ]
    },
    {
      "cell_type": "markdown",
      "metadata": {
        "id": "0Qk_WHAHNLow"
      },
      "source": [
        "Базовый алгоритм TD-обучения — $TD(0)$ заключается в следующем:\n",
        "\n",
        "Инициализируем функцию ценности, например, $V(s)$, и стратегию $\\pi$. Пусть, у нас есть текущее состояние $s$ из которого мы:\n",
        "- выбираем действие $a$ по стратегии $\\pi$,\n",
        "- совершаем действие $a$, наблюдаем награду $r$ и следующее состояние $s'$,\n",
        "- обновляем оценку $V(s)$:\n",
        "\n",
        "$$V(s) := V(s) + \\alpha(\\underbrace{\\overbrace{r+\\gamma V(s')}^{\\text{TD target}} - \\overbrace{V(s)}^{\\text{old estimate}}}_{\\text{TD error}}),$$\n",
        "\n",
        "- переходим к следующему шагу $s:=s'$\n",
        "\n",
        "При оптимальной политике $\\pi$:\n",
        "$$\\overbrace{r+\\gamma V(s')}^{\\text{TD target}} = \\overbrace{V(s)}^{\\text{old estimate}}$$\n",
        "\n",
        "Cоответственно, их разницу, называемую _TD-ошибкой_ (TD-error), мы и будем пытаться минимизировать."
      ]
    },
    {
      "cell_type": "markdown",
      "metadata": {
        "id": "LjALQ0agNLow"
      },
      "source": [
        "Почему это работает? Ведь мы обучаем случайно инициализированную оценку $V(s)$ на основе других оценок $V(s')$, которые также были инициализированы случайно. Дело в том, что состояния, которые предшествуют получению реальных наград (например, за победу) будут обучаться первыми и затем распространять свою ценность на состояния, предшествующие им.\n",
        "\n",
        "Стоит отметить также, что TD-обучение не обязательно всегда будет смотреть на один шаг вперед. Алгоритм, называемый $TD(\\lambda)$, будет обновлять оценки функции ценности сразу на несколько шагов назад.\n",
        "\n",
        "Разновидностями TD-обучения являются алгоритмы __Q-learning__ и __SARSA__."
      ]
    },
    {
      "cell_type": "markdown",
      "metadata": {
        "id": "OoTnw_MINLow"
      },
      "source": [
        "#### Q-Learning"
      ]
    },
    {
      "cell_type": "markdown",
      "metadata": {
        "id": "wzrfPof_NLox"
      },
      "source": [
        "Матрица перехода $P_{ss'}^{a}$ может быть нам неизвестна явно, что затруднит прямое применение алгоритма динамического программирования для нахождения Q или V функций в общем случае:\n",
        "$$\n",
        "\\large q_{\\pi}(s, a) = \\sum_{s'}P_{ss'}^{a}(R_{ss'}^{a}+\\gamma\\sum_{a'}\\pi(a'|s') q_{\\pi}(s', a')) = \\mathbb{E}(R_{ss'}^a +\\gamma \\mathbb{E}_{\\pi} q_{\\pi}(s', a')).\n",
        "$$\n",
        "\n",
        "Мы можем обойти это ограничение, заменив \"честное\" матожидание по MDP, на выборочное среднее от серии наблюдений вдоль различных траекторий процесса:\n",
        "\n",
        "$$\n",
        "\\large q_{\\pi}(s, a) =  \\frac{1}{N}\\sum_n(R_{ss'}^a +\\gamma \\mathbb{E}_{\\pi} q_{\\pi}(s', a')).\n",
        "$$\n"
      ]
    },
    {
      "cell_type": "markdown",
      "metadata": {
        "id": "lyjtT_-ONLox"
      },
      "source": [
        "Допустим, мы ходим по полю размером 12×4. Наша цель — попасть в ячейку (3,11).\n",
        "**Максимизируя сумму будущих наград**, мы также находим **самый быстрый путь** к цели, поэтому наша цель сейчас — найти способ сделать это!\n"
      ]
    },
    {
      "cell_type": "markdown",
      "metadata": {
        "id": "ZQMZrBRKNLox"
      },
      "source": [
        "<center><img src=\"https://edunet.kea.su/repo/EduNet-web_dependencies/dev-2.0/L15/q_learning_field.png\" alt=\"Drawing\" width=\"700\"/></center>\n",
        "\n",
        "<center><em>Source: <a href=\"https://habr.com/ru/articles/443240/\">Понимание Q-learning, проблема «Прогулка по скале»</a></em></center>"
      ]
    },
    {
      "cell_type": "markdown",
      "metadata": {
        "id": "l_7C30kdNLox"
      },
      "source": [
        "Начнем с построения таблицы, которая измеряет, насколько хорошо будет выполнить определенное действие в любом состоянии (чем больше значение, тем лучше действие).\n",
        "\n",
        "* Таблица будет иметь одну строку для каждого состояния и один столбец для каждого действия. Сетка имеет 48 (4 по Y на 12 по X) состояний, и разрешены 4 действия ($\\leftarrow \\downarrow \\rightarrow \\uparrow$), поэтому таблица будет 48×4.\n",
        "* **Значения**, хранящиеся **в этой таблице**, называются **«Q-values»**.\n",
        "* Это оценки суммы будущих наград. Другими словами, они оценивают, сколько еще вознаграждения мы можем получить до конца игры, находясь в состоянии S и выполняя действие A.\n",
        "* Мы инициализируем таблицу случайными значениями (или некоторой константой, например, всеми нулями)."
      ]
    },
    {
      "cell_type": "markdown",
      "metadata": {
        "id": "on4o6EmeNLox"
      },
      "source": [
        "Оптимальная «Q-table» имеет значения, которые позволяют нам предпринимать лучшие действия в каждом состоянии, давая нам в итоге лучший путь к победе.\n",
        "\n"
      ]
    },
    {
      "cell_type": "markdown",
      "metadata": {
        "id": "NBxqfN8tNLox"
      },
      "source": [
        "<center><img src=\"https://edunet.kea.su/repo/EduNet-web_dependencies/dev-2.0/L15/q_table.png\" alt=\"Drawing\" width=\"300\"/></center>\n",
        "\n",
        "<center><em>Source: <a href=\"https://habr.com/ru/articles/443240/\">Понимание Q-learning, проблема «Прогулка по скале»</a></em></center>"
      ]
    },
    {
      "cell_type": "markdown",
      "metadata": {
        "id": "85P2yefZNLox"
      },
      "source": [
        "**Q-learning** — это алгоритм, который «изучает» эти значения. На каждом шагу мы получаем больше информации о мире. Эта информация используется для обновления значений в таблице.\n"
      ]
    },
    {
      "cell_type": "markdown",
      "metadata": {
        "id": "PGc0uLxVNLox"
      },
      "source": [
        "<center><img src=\"https://edunet.kea.su/repo/EduNet-web_dependencies/dev-2.0/L15/q_learning.gif\" alt=\"Drawing\" width=\"800\"></center>\n",
        "\n",
        "<center><em>Source: <a href=\"https://habr.com/ru/articles/443240/\">Понимание Q-learning, проблема «Прогулка по скале»</a></em></center>"
      ]
    },
    {
      "cell_type": "markdown",
      "metadata": {
        "id": "bLj-_OreNLox"
      },
      "source": [
        "Итак, мы не знаем вероятности переходов. Мы можем только генерировать траектории и учиться на них.\n",
        "\n",
        "\n"
      ]
    },
    {
      "cell_type": "markdown",
      "metadata": {
        "id": "Js1r0XJQNLox"
      },
      "source": [
        "<img src=\"https://edunet.kea.su/repo/EduNet-content/dev-2.0/L15/out/q_learning_scheme.png\" alt=\"Drawing\" width=\"500\"/>"
      ]
    },
    {
      "cell_type": "markdown",
      "metadata": {
        "id": "6M9rnAUiNLoy"
      },
      "source": [
        "Возникает вопрос, какую из функций ценности нам лучше пытаться учить: $V(s)$ или $Q(s,a)$? Поскольку $V(s)$ не позволит определять политику без знания $P_{ss'}^a$, будет выгоднее учить $Q(s,a)$."
      ]
    },
    {
      "cell_type": "markdown",
      "metadata": {
        "id": "YJ3luAGQNLoy"
      },
      "source": [
        "<img src=\"https://edunet.kea.su/repo/EduNet-content/dev-2.0/L15/out/q_learning_possible_actions.png\" alt=\"Drawing\" width=\"600\"/>"
      ]
    },
    {
      "cell_type": "markdown",
      "metadata": {
        "id": "0QX22S2xNLoy"
      },
      "source": [
        "Инициализировать таблицу $Q(s, a)$ нулями.\n",
        "\n",
        "* Цикл:\n",
        "   * Семплировать $<s, a, r, s^{'}>$ из среды\n",
        "   * Вычислить $\\hat{Q}(s, a) = r(s,a) + \\gamma Q(s^{'}, a_{i})$\n",
        "   * Обновить $Q(s,a) \\longleftarrow \\alpha \\hat{Q}(s, a) + (1-\\alpha)Q(s,a)$\n",
        "\n",
        "$\\color{red}\\triangle$ Мы хотим **несмещённую оценку с меньшей дисперисей**, поэтому используем **скользящее среднее**.\n",
        "\n",
        "$\\color{red}\\triangle$ **Пересчёт** функции (поле в таблице) выполняется **после перехода**."
      ]
    },
    {
      "cell_type": "markdown",
      "metadata": {
        "id": "WLhtqozMNLoy"
      },
      "source": [
        "$\\hat{Q}$ — расчетное значение, $Q$ — то, что было в таблице, $\\alpha$ — шаг обучения.\n",
        "\n",
        "Данный алгоритм называется __Q-learning__. Он напрямую аппроксимирует функцию $q_*(s,a)$, которая фактически представляет оптимальную политику $\\pi_*$. В данном алгоритме оценка $Q(s, a)$ обновляется в соответствии с правилами TD-обучения:\n",
        "\n",
        "$$\\large Q(s,a) := Q(s,a) + \\alpha(R_{ss'}^a+\\gamma\\max_{a'}Q(s',a') -Q(s,a))$$\n",
        "\n",
        "Видно, что за счет максимума Q-learning будет аппроксимировать именно $q_*(s,a)$, независимо от того, какой политики мы придерживаемся (которая может быть, например $\\varepsilon$-жадной). Наш вариант Q-learning не учитывает того, что мы хотим иногда \"рандомить\". В совокупности группа методов, при которых мы можем придерживаться абсолютно любой стратегии, а обучаться все равно будут правильные оптимальные значения политики, называется __off-policy__."
      ]
    },
    {
      "cell_type": "markdown",
      "metadata": {
        "id": "zxCry445NLoy"
      },
      "source": [
        "#### Deep Q-Learning"
      ]
    },
    {
      "cell_type": "markdown",
      "metadata": {
        "id": "OuEwwMUkNLoy"
      },
      "source": [
        "Есть задачи, где количество состояний и переходов огромно, и поддерживать таблицу значений не представляется возможным."
      ]
    },
    {
      "cell_type": "markdown",
      "metadata": {
        "id": "aJ5w6BPFNLoy"
      },
      "source": [
        "<center><img src=\"https://edunet.kea.su/repo/EduNet-content/dev-2.0/L15/out/large_num_of_states.png\" width=\"350\"/><center>\n",
        "\n",
        "<center><em>Иллюстрация игры Space Invaders</em></center>"
      ]
    },
    {
      "cell_type": "markdown",
      "metadata": {
        "id": "uDvjvwD8NLoy"
      },
      "source": [
        "Количество состояний для $8$-мибитной цветной ($3$ RGB-канала) игры Space Invaders с размером игрового поля $210 \\times 160$ пикселей:\n",
        "\n",
        "$$\\large |S| = 210\\times160\\times2^{8\\times3}$$\n",
        "\n",
        "В таких ситуациях Q-функцию не считают в явном виде, а аппроксимируют нейросетью."
      ]
    },
    {
      "cell_type": "markdown",
      "metadata": {
        "id": "LeNQmoFMNLoy"
      },
      "source": [
        "<img src=\"https://edunet.kea.su/repo/EduNet-content/dev-2.0/L15/out/approximately_q_function_by_network.png\" alt=\"Drawing\" width=\"800\"/>"
      ]
    },
    {
      "cell_type": "markdown",
      "metadata": {
        "id": "6XRDjDpgNLoy"
      },
      "source": [
        "Чтобы считать градиент, приходится принимать значение Q-функции фиксированным и не зависящим от параметров нашей нейросети. Что, конечно, не так.\n"
      ]
    },
    {
      "cell_type": "markdown",
      "metadata": {
        "id": "oyPUzpxyNLoy"
      },
      "source": [
        "### Loss"
      ]
    },
    {
      "cell_type": "markdown",
      "metadata": {
        "id": "tFSSTR3-NLoz"
      },
      "source": [
        "<img src=\"https://edunet.kea.su/repo/EduNet-content/dev-2.0/L15/out/deep_q_learning_loss.png\" alt=\"Drawing\" width=\"500\"/>"
      ]
    },
    {
      "cell_type": "markdown",
      "metadata": {
        "id": "HDarBEKrNLoz"
      },
      "source": [
        "### Approximate Q-learning"
      ]
    },
    {
      "cell_type": "markdown",
      "metadata": {
        "id": "D2hWveO2NLoz"
      },
      "source": [
        "Q-values:\n",
        "$$\n",
        "\\large \\hat{Q}\\left(s_{t}, a_{t}\\right)=r+\\gamma \\cdot \\max _{a^{\\prime}} Q\\left(s_{t+1}, a^{\\prime}\\right)\n",
        "$$\n",
        "Objective:\n",
        "$$\n",
        "\\large L=\\left(Q\\left(s_{t}, a_{t}\\right)-\\left[r+\\gamma \\cdot \\max _{a^{\\prime}} Q\\left(s_{t+1}, a^{\\prime}\\right)\\right]\\right)^{2}\n",
        "$$\n",
        "Gradient step:\n",
        "$$\n",
        "\\large w_{t+1}=w_{t}-\\alpha \\cdot \\frac{\\delta L}{\\delta w}\n",
        "$$"
      ]
    },
    {
      "cell_type": "markdown",
      "metadata": {
        "id": "W7brOvGXNLoz"
      },
      "source": [
        "### Алгоритм обучения"
      ]
    },
    {
      "cell_type": "markdown",
      "metadata": {
        "id": "i5S47ChbNLoz"
      },
      "source": [
        "**Basic deep Q-learning**\n",
        "\n",
        "<img src=\"https://edunet.kea.su/repo/EduNet-content/dev-2.0/L15/out/basic_deep_q_learning_scheme.png\" alt=\"Drawing\" width=\"800\"/>"
      ]
    },
    {
      "cell_type": "markdown",
      "metadata": {
        "id": "OGM5bvkUNLoz"
      },
      "source": [
        "$\\varepsilon -greedy$ нужна для исследования среды"
      ]
    },
    {
      "cell_type": "markdown",
      "metadata": {
        "id": "F9rBbqYrNLoz"
      },
      "source": [
        "### Experience replay"
      ]
    },
    {
      "cell_type": "markdown",
      "metadata": {
        "id": "ROQdxNK7NLoz"
      },
      "source": [
        "**Проблема**:\n",
        "\n",
        "<center><img src=\"https://edunet.kea.su/repo/EduNet-content/dev-2.0/L15/out/information_about_states_is_unevenly_distributed.png\" alt=\"Drawing\" width=\"550\"/></center>"
      ]
    },
    {
      "cell_type": "markdown",
      "metadata": {
        "id": "k7qWEdfENLoz"
      },
      "source": [
        "В большинстве окружений информация, получаемая агентом, распределена не независимо. Т.е. последовательные наблюдения агента сильно коррелированы между собой (что понятно из интуитивных соображений, т.к. большинство окружений, в которых применяется RL, предполагают, что все изменения в них последовательны).\n",
        "\n",
        "Мы можем столкнуться с такой проблемой при обучении нейросети, если в игре есть большое количество стандартных персонажей и редко встречающиеся \"боссы\". После повторения большого количества типовых действий нейросеть будет забывать, как проходить боссов.\n",
        "\n",
        "Корреляция примеров ухудшает сходимость стохастического градиентного спуска. Таким образом, нам нужен способ, который позволяет улучшить распределение примеров для обучения (устранить или снизить корреляцию между ними)."
      ]
    },
    {
      "cell_type": "markdown",
      "metadata": {
        "id": "qB-ULRoUNLoz"
      },
      "source": [
        "<img src=\"https://edunet.kea.su/repo/EduNet-content/dev-2.0/L15/out/experience_replay_scheme.png\" alt=\"Drawing\" width=\"600\"/>"
      ]
    },
    {
      "cell_type": "markdown",
      "metadata": {
        "id": "DT0YuHKhNLoz"
      },
      "source": [
        "**Идея**: сохранять несколько предыдущих взаимодействий $<s,a,r,s^{'}>$.\n",
        "\n",
        "Обучать на случайных подвыборках.\n",
        "\n",
        "**Процесс обучения**:\n",
        "* Сыграть 1 шаг и записать его\n",
        "* Выбрать $N$ случайных записей для обучения\n",
        "\n",
        "**Profit**: не требуется заново возвращаться в те же пары *состояние-действие* $(s,a)$, чтобы выучить их.\n",
        "* Можно получить хорошую стратегию, сделав меньше взаимодействий со средой\n",
        "* Боремся с катастрофическим забыванием данных\n",
        "\n",
        "$\\color{red}\\triangle$ **Работает только с алгоритмами без политик.**"
      ]
    },
    {
      "cell_type": "markdown",
      "metadata": {
        "id": "LNWaJ8hGNLo0"
      },
      "source": [
        "Обычно используется метод **проигрывания опыта (experience replay)**. Суть этого метода в том, что мы сохраняем некоторое количество примеров (состояние, действия, вознаграждение) в специальном буфере и для обучения выбираем случайные мини-батчи из этого буфера.\n",
        "\n",
        "Так же **experience replay** позволяет агенту эффективнее использовать свой прошлый опыт."
      ]
    },
    {
      "cell_type": "markdown",
      "metadata": {
        "id": "2uplRa-2NLo0"
      },
      "source": [
        "### Target network"
      ]
    },
    {
      "cell_type": "markdown",
      "metadata": {
        "id": "KxLAhS87NLo0"
      },
      "source": [
        "В DQN для эффективного обучения должны использоваться две сети: одна непосредственно обучается, другая определяет цель (TD target). Почему мы не можем пользоваться одной и той же сетью для получения оценки текущего $Q(s', a')$ и предыдущего $Q(s, a)$ состояний?\n",
        "\n",
        "Напомним, что в процессе TD-обучения мы \"подтягиваем\" значение функции ценности того состояния, в котором мы находились на предыдущем шаге, к значению функции ценности того состояния, в котором мы находимся сейчас, а в DQN мы делаем это с помощью нейронной сети, и если использовать одну и ту же сеть для оценки $Q(s', a')$ и $Q(s, a)$, то этот процесс может превратиться в нескончаемую погоню за целью, которую невозможно достичь, поскольку с каждым обновлением весов, приближающим нас к цели, одновременно сама цель будет удаляться от нас (как на рисунке ниже):"
      ]
    },
    {
      "cell_type": "markdown",
      "metadata": {
        "id": "1TQHOoo8NLo0"
      },
      "source": [
        "<img src=\"https://edunet.kea.su/repo/EduNet-content/dev-2.0/L15/out/At_first_everything_look.png\" alt=\"Drawing\" width=\"600\"/>"
      ]
    },
    {
      "cell_type": "markdown",
      "metadata": {
        "id": "k7r-BQR7NLo0"
      },
      "source": [
        "К счастью, эта проблема решаема: нужно сделать так, чтобы сеть обучалась некоторое время аппроксимировать оценку $\\max_{a'} Q(s', a')$, полученную без использования обновленных весов Q-сети. Для этого используют __целевую сеть__ (target network) с зафиксированными весами, обновляемыми раз в несколько эпизодов обучения (например, эпох или игровых эпизодов, если обучение происходит после каждого игрового эпизода)."
      ]
    },
    {
      "cell_type": "markdown",
      "metadata": {
        "id": "F-d8QEeSNLo0"
      },
      "source": [
        "<img src=\"https://edunet.kea.su/repo/EduNet-content/dev-2.0/L15/out/Suppose_we_freeze.png\" alt=\"Drawing\" width=\"600\"/>"
      ]
    },
    {
      "cell_type": "markdown",
      "metadata": {
        "id": "7k9GurZXNLo0"
      },
      "source": [
        "Таким образом, параллельно будут существовать две сети, одна из которых будет отвечать за выбор действия, другая — за целевую функцию, одна из которых будет обучаться с отставанием."
      ]
    },
    {
      "cell_type": "markdown",
      "metadata": {
        "id": "h7_sXyWmNLo0"
      },
      "source": [
        "<img src=\"https://edunet.kea.su/repo/EduNet-content/dev-2.0/L15/out/DQN-Loss_.png\" alt=\"Drawing\" width=\"800\"/>"
      ]
    },
    {
      "cell_type": "markdown",
      "metadata": {
        "id": "ubvpuekbNLo0"
      },
      "source": [
        "## Пример c CartPole DQN"
      ]
    },
    {
      "cell_type": "markdown",
      "metadata": {
        "id": "D4El6ZqWNLo0"
      },
      "source": [
        "Сеть Deep Q = DQN (Deep Q-Network).\n",
        "\n",
        "CartPole — перевернутый маятник с центром тяжести над своей точкой поворота. Он нестабилен, но его можно контролировать, перемещая точку поворота под центром масс. Цель состоит в том, чтобы сохранить равновесие, прикладывая соответствующие усилия к точке поворота.\n",
        "\n",
        "Другой env можно использовать без каких-либо изменений кода. Пространство состояний должно быть единым вектором, действия должны быть дискретными.\n",
        "\n",
        "CartPole — самый простой. На ее решение должно уйти несколько минут.\n",
        "\n",
        "Для LunarLander может потребоваться 1–2 часа, чтобы получить 200 баллов (хороший балл) в Colab, и прогресс в обучении не выглядит информативным."
      ]
    },
    {
      "cell_type": "code",
      "execution_count": null,
      "metadata": {
        "id": "co_KyokSNLo1"
      },
      "outputs": [],
      "source": [
        "from IPython.display import clear_output\n",
        "import os\n",
        "\n",
        "################################################\n",
        "# For CartPole\n",
        "################################################\n",
        "\n",
        "!wget -q https://raw.githubusercontent.com/yandexdataschool/Practical_RL/master/setup_colab.sh -O- | bash\n",
        "\n",
        "!wget -q https://raw.githubusercontent.com/yandexdataschool/Practical_RL/master/week04_approx_rl/atari_wrappers.py\n",
        "!wget -q https://raw.githubusercontent.com/yandexdataschool/Practical_RL/master/week04_approx_rl/utils.py\n",
        "!wget -q https://raw.githubusercontent.com/yandexdataschool/Practical_RL/master/week04_approx_rl/replay_buffer.py\n",
        "!wget -q https://raw.githubusercontent.com/yandexdataschool/Practical_RL/master/week04_approx_rl/framebuffer.py\n",
        "\n",
        "!pip install swig\n",
        "!pip install gym[box2d]\n",
        "\n",
        "!touch .setup_complete\n",
        "\n",
        "\n",
        "# This code creates a virtual display to draw game images on.\n",
        "# It will have no effect if your machine has a monitor.\n",
        "if type(os.environ.get(\"DISPLAY\")) is not str or len(os.environ.get(\"DISPLAY\")) == 0:\n",
        "    !bash ../xvfb start\n",
        "    os.environ[\"DISPLAY\"] = \":1\"\n",
        "\n",
        "clear_output()"
      ]
    },
    {
      "cell_type": "code",
      "execution_count": null,
      "metadata": {
        "id": "RHO9tRpSNLo1"
      },
      "outputs": [],
      "source": [
        "import gym\n",
        "\n",
        "ENV_NAME = \"CartPole-v1\"\n",
        "\n",
        "\n",
        "def make_env(seed=None):\n",
        "    # some envs are wrapped with a time limit wrapper by default\n",
        "    env = gym.make(ENV_NAME, render_mode=\"rgb_array\", new_step_api=True).unwrapped\n",
        "    if seed is not None:\n",
        "        env.seed(seed)\n",
        "    return env"
      ]
    },
    {
      "cell_type": "code",
      "execution_count": null,
      "metadata": {
        "colab": {
          "base_uri": "https://localhost:8080/",
          "height": 396
        },
        "id": "xnsCDz7NNLo1",
        "outputId": "66021b0a-99f5-45aa-da1e-326f8f3f25ce"
      },
      "outputs": [
        {
          "output_type": "display_data",
          "data": {
            "text/plain": [
              "<Figure size 640x480 with 1 Axes>"
            ],
            "image/png": "[encoded data removed]"
          },
          "metadata": {}
        }
      ],
      "source": [
        "import matplotlib.pyplot as plt\n",
        "import numpy as np\n",
        "from warnings import simplefilter\n",
        "\n",
        "simplefilter(\"ignore\", category=DeprecationWarning)\n",
        "\n",
        "env = make_env()\n",
        "env.reset()\n",
        "env_img = np.squeeze(env.render())\n",
        "clear_output()\n",
        "plt.imshow(env_img)\n",
        "state_shape, n_actions = env.observation_space.shape, env.action_space.n"
      ]
    },
    {
      "cell_type": "markdown",
      "metadata": {
        "id": "vrXLgWZpNLo1"
      },
      "source": [
        "### Архитектура сети"
      ]
    },
    {
      "cell_type": "markdown",
      "metadata": {
        "id": "WZxOxstcNLo1"
      },
      "source": [
        "Теперь нам нужно построить нейронную сеть, которая может сопоставлять наблюдения с состоянием q-значений.\n",
        "\n",
        "Модель не должна быть слишком сложной: 1–2 скрытых слоя с < 200 нейронами и активацией ReLU, вероятно, будет достаточно.\n",
        "\n",
        "Batch Normalization и Dropout могут все испортить, поэтому их не используем."
      ]
    },
    {
      "cell_type": "code",
      "execution_count": null,
      "metadata": {
        "colab": {
          "base_uri": "https://localhost:8080/"
        },
        "id": "zRuP_j02NLo1",
        "outputId": "746ff4d9-1219-4c02-8c5b-e5041d2f7c12"
      },
      "outputs": [
        {
          "output_type": "stream",
          "name": "stdout",
          "text": [
            "(4,)\n"
          ]
        }
      ],
      "source": [
        "import torch\n",
        "\n",
        "device = torch.device(\"cuda\" if torch.cuda.is_available() else \"cpu\")\n",
        "# those who have a GPU but feel unfair to use it can uncomment:\n",
        "# device = torch.device('cpu')\n",
        "\n",
        "print(state_shape)"
      ]
    },
    {
      "cell_type": "code",
      "execution_count": null,
      "metadata": {
        "id": "K9KcqTUgNLo1"
      },
      "outputs": [],
      "source": [
        "from torch import nn\n",
        "\n",
        "\n",
        "class DQNAgent(nn.Module):\n",
        "    def __init__(self, state_shape, n_actions, epsilon=0):\n",
        "        super().__init__()\n",
        "        self.epsilon = epsilon\n",
        "        self.n_actions = n_actions\n",
        "        self.state_shape = state_shape\n",
        "        # Define your network body here. Please make sure agent is fully contained here\n",
        "        assert len(state_shape) == 1\n",
        "        state_dim = state_shape[0]\n",
        "\n",
        "        # Define NN\n",
        "        ##############################################\n",
        "        hidden_size = 150\n",
        "        self._nn = nn.Sequential(\n",
        "            nn.Linear(state_dim, hidden_size),\n",
        "            nn.ReLU(),\n",
        "            nn.Linear(hidden_size, n_actions),\n",
        "            nn.ReLU(),\n",
        "        )\n",
        "        ##############################################\n",
        "\n",
        "    def forward(self, state_t):\n",
        "        \"\"\"\n",
        "        takes agent's observation (tensor), returns qvalues (tensor)\n",
        "        :param state_t: a batch states, shape = [batch_size, *state_dim=4]\n",
        "        \"\"\"\n",
        "        # Use your network to compute qvalues for given state\n",
        "\n",
        "        ##############################################\n",
        "        qvalues = self._nn(state_t)\n",
        "        ##############################################\n",
        "\n",
        "        assert qvalues.requires_grad, \"qvalues must be a torch tensor with grad\"\n",
        "        assert (\n",
        "            len(qvalues.shape) == 2\n",
        "            and qvalues.shape[0] == state_t.shape[0]\n",
        "            and qvalues.shape[1] == n_actions\n",
        "        )\n",
        "\n",
        "        return qvalues\n",
        "\n",
        "    def get_qvalues(self, states):\n",
        "        \"\"\"\n",
        "        like forward, but works on numpy arrays, not tensors\n",
        "        \"\"\"\n",
        "        model_device = next(self.parameters()).device\n",
        "        states = torch.tensor(states, device=model_device, dtype=torch.float32)\n",
        "        qvalues = self.forward(states)\n",
        "        return qvalues.data.cpu().numpy()\n",
        "\n",
        "    def sample_actions(self, qvalues):\n",
        "        \"\"\"pick actions given qvalues. Uses epsilon-greedy exploration strategy.\"\"\"\n",
        "        epsilon = self.epsilon\n",
        "        batch_size, n_actions = qvalues.shape\n",
        "\n",
        "        random_actions = np.random.choice(n_actions, size=batch_size)\n",
        "        best_actions = qvalues.argmax(axis=-1)\n",
        "\n",
        "        should_explore = np.random.choice([0, 1], batch_size, p=[1 - epsilon, epsilon])\n",
        "        return np.where(should_explore, random_actions, best_actions)"
      ]
    },
    {
      "cell_type": "code",
      "execution_count": null,
      "metadata": {
        "id": "B2RfEd4ONLo1"
      },
      "outputs": [],
      "source": [
        "agent = DQNAgent(state_shape, n_actions, epsilon=0.5).to(device)"
      ]
    },
    {
      "cell_type": "code",
      "execution_count": null,
      "metadata": {
        "id": "A03TLGh9NLo2"
      },
      "outputs": [],
      "source": [
        "def evaluate(env, agent, n_games=1, greedy=False, t_max=10000):\n",
        "    \"\"\"Plays n_games full games. If greedy, picks actions as argmax(qvalues). Returns mean reward.\"\"\"\n",
        "    rewards = []\n",
        "    for _ in range(n_games):\n",
        "        s = env.reset()\n",
        "        reward = 0\n",
        "        for _ in range(t_max):\n",
        "            qvalues = agent.get_qvalues([s])\n",
        "            action = (\n",
        "                qvalues.argmax(axis=-1)[0]\n",
        "                if greedy\n",
        "                else agent.sample_actions(qvalues)[0]\n",
        "            )\n",
        "            s, r, done, _, _ = env.step(action)\n",
        "            reward += r\n",
        "            if done:\n",
        "                break\n",
        "\n",
        "        rewards.append(reward)\n",
        "    return np.mean(rewards)"
      ]
    },
    {
      "cell_type": "markdown",
      "metadata": {
        "id": "Q-s55emKNLo2"
      },
      "source": [
        "### Experience Replay Buffer and Target Networks"
      ]
    },
    {
      "cell_type": "markdown",
      "metadata": {
        "id": "I_M8HV9VNLo2"
      },
      "source": [
        "**Интерфейс довольно прост:**\n",
        "\n",
        "* `exp_replay.add(obs, act, rw, next_obs, done)` — сохраняет (s,a,r,s',done) кортеж в буфер?\n",
        "* `exp_replay.sample(batch_size)` — возвращает observations, actions, rewards, next_observations и is_done для `batch_size` random samples,\n",
        "* `len(exp_replay)` — возвращает количество элементов, хранящихся в replay buffer."
      ]
    },
    {
      "cell_type": "code",
      "execution_count": null,
      "metadata": {
        "colab": {
          "base_uri": "https://localhost:8080/"
        },
        "id": "HLKTZn3nNLo2",
        "outputId": "aec317f2-18f5-43f0-a5d3-d9216084c392"
      },
      "outputs": [
        {
          "output_type": "execute_result",
          "data": {
            "text/plain": [
              "<All keys matched successfully>"
            ]
          },
          "metadata": {},
          "execution_count": 48
        }
      ],
      "source": [
        "from replay_buffer import ReplayBuffer\n",
        "\n",
        "exp_replay = ReplayBuffer(2000)\n",
        "\n",
        "\n",
        "target_network = DQNAgent(agent.state_shape, agent.n_actions, epsilon=0.5).to(device)\n",
        "# This is how you can load weights from agent into target network\n",
        "target_network.load_state_dict(agent.state_dict())"
      ]
    },
    {
      "cell_type": "markdown",
      "metadata": {
        "id": "ca-0i_lINLo2"
      },
      "source": [
        "### TD-Loss"
      ]
    },
    {
      "cell_type": "markdown",
      "metadata": {
        "id": "hlMqMo09NLo3"
      },
      "source": [
        "Вычислим ошибку TD Q-learning:\n",
        "\n",
        "$$ \\large L = { 1 \\over N} \\sum_i [ Q_{\\theta}(s,a) - Q_\\text{reference}(s,a) ] ^2 $$\n",
        "\n",
        "С Q-reference, определенным как:\n",
        "\n",
        "$$ \\large Q_\\text{reference}(s,a) = r(s,a) + \\gamma \\cdot \\max_{a'} Q_\\text{target}(s', a'), $$\n",
        "\n",
        "где:\n",
        "* $Q_\\text{target}(s',a')$ обозначает $Q$-значение следующего предсказанного состояния и следующего действия __target_network__,\n",
        "* $s, a, r, s'$ — текущее состояние, действие, вознаграждение и следующее состояние соответственно,\n",
        "* $\\gamma$ является коэффициентом дисконтирования, определенным двумя ячейками выше."
      ]
    },
    {
      "cell_type": "code",
      "execution_count": null,
      "metadata": {
        "id": "u2s58I6eNLo3"
      },
      "outputs": [],
      "source": [
        "def compute_td_loss(\n",
        "    states,\n",
        "    actions,\n",
        "    rewards,\n",
        "    next_states,\n",
        "    is_done,\n",
        "    agent,\n",
        "    target_network,\n",
        "    gamma=0.99,\n",
        "    check_shapes=False,\n",
        "    device=device,\n",
        "):\n",
        "    \"\"\"Compute td loss using torch operations only. Use the formulae above.\"\"\"\n",
        "    states = torch.tensor(\n",
        "        states, device=device, dtype=torch.float32\n",
        "    )  # shape: [batch_size, *state_shape]\n",
        "    actions = torch.tensor(\n",
        "        actions, device=device, dtype=torch.int64\n",
        "    )  # shape: [batch_size]\n",
        "    rewards = torch.tensor(\n",
        "        rewards, device=device, dtype=torch.float32\n",
        "    )  # shape: [batch_size]\n",
        "    # shape: [batch_size, *state_shape]\n",
        "    next_states = torch.tensor(next_states, device=device, dtype=torch.float)\n",
        "    is_done = torch.tensor(\n",
        "        is_done.astype(\"float32\"),\n",
        "        device=device,\n",
        "        dtype=torch.float32,\n",
        "    )  # shape: [batch_size]\n",
        "    is_not_done = 1 - is_done\n",
        "\n",
        "    # get q-values for all actions in current states\n",
        "    predicted_qvalues = agent(states)  # shape: [batch_size, n_actions]\n",
        "\n",
        "    # compute q-values for all actions in next states\n",
        "    # with torch.no_grad():\n",
        "    predicted_next_qvalues = target_network(\n",
        "        next_states\n",
        "    )  # shape: [batch_size, n_actions]\n",
        "\n",
        "    # select q-values for chosen actions\n",
        "    predicted_qvalues_for_actions = predicted_qvalues[\n",
        "        range(len(actions)), actions\n",
        "    ]  # shape: [batch_size]\n",
        "\n",
        "    # compute V*(next_states) using predicted next q-values\n",
        "    ##############################################\n",
        "    next_state_values = predicted_next_qvalues.max(axis=-1)[0]\n",
        "    ##############################################\n",
        "\n",
        "    assert (\n",
        "        next_state_values.dim() == 1 and next_state_values.shape[0] == states.shape[0]\n",
        "    ), \"must predict one value per state\"\n",
        "\n",
        "    # compute \"target q-values\" for loss - it's what's inside square parentheses in the above formula.\n",
        "    # at the last state use the simplified formula: Q(s,a) = r(s,a) since s' doesn't exist\n",
        "    # you can multiply next state values by is_not_done to achieve this.\n",
        "    ###############################################\n",
        "    target_qvalues_for_actions = rewards + gamma * next_state_values * is_not_done\n",
        "    ##############################################\n",
        "\n",
        "    # mean squared error loss to minimize\n",
        "    loss = torch.mean(\n",
        "        (predicted_qvalues_for_actions - target_qvalues_for_actions.detach()) ** 2\n",
        "    )\n",
        "\n",
        "    if check_shapes:\n",
        "        assert (\n",
        "            predicted_next_qvalues.data.dim() == 2\n",
        "        ), \"make sure you predicted q-values for all actions in next state\"\n",
        "        assert (\n",
        "            next_state_values.data.dim() == 1\n",
        "        ), \"make sure you computed V(s') as maximum over just the actions axis and not all axes\"\n",
        "        assert (\n",
        "            target_qvalues_for_actions.data.dim() == 1\n",
        "        ), \"there's something wrong with target q-values, they must be a vector\"\n",
        "\n",
        "    return loss"
      ]
    },
    {
      "cell_type": "markdown",
      "metadata": {
        "id": "UDlT1dkWNLo3"
      },
      "source": [
        "### Реализация алгоритма"
      ]
    },
    {
      "cell_type": "code",
      "execution_count": null,
      "metadata": {
        "colab": {
          "base_uri": "https://localhost:8080/"
        },
        "id": "SWW7BK4ENLo3",
        "outputId": "0b146a41-d5e4-4ea0-c59a-b78650ef3639"
      },
      "outputs": [
        {
          "output_type": "execute_result",
          "data": {
            "text/plain": [
              "<All keys matched successfully>"
            ]
          },
          "metadata": {},
          "execution_count": 50
        }
      ],
      "source": [
        "import random\n",
        "\n",
        "seed = 42\n",
        "\n",
        "random.seed(seed)\n",
        "np.random.seed(seed)\n",
        "torch.manual_seed(seed)\n",
        "\n",
        "env = make_env()\n",
        "env.reset(seed=seed)\n",
        "state_dim = env.observation_space.shape\n",
        "n_actions = env.action_space.n\n",
        "state = env.reset()\n",
        "\n",
        "agent = DQNAgent(state_dim, n_actions, epsilon=1).to(device)\n",
        "target_network = DQNAgent(state_dim, n_actions, epsilon=1).to(device)\n",
        "target_network.load_state_dict(agent.state_dict())"
      ]
    },
    {
      "cell_type": "markdown",
      "metadata": {
        "id": "zuZnX0w8NLo3"
      },
      "source": [
        "Один агент для игры, второй для обучения. Периодически веса обученного агента копируются в \"игрока\"."
      ]
    },
    {
      "cell_type": "code",
      "execution_count": null,
      "metadata": {
        "id": "pkG29TUsNLo3"
      },
      "outputs": [],
      "source": [
        "def play_and_record(initial_state, agent, env, exp_replay, n_steps=1):\n",
        "    \"\"\"\n",
        "    Play the game for exactly n_steps, record every (s,a,r,s', done) to replay buffer.\n",
        "    Whenever game ends, add record with done=True and reset the game.\n",
        "    It is guaranteed that env has done=False when passed to this function.\n",
        "\n",
        "    PLEASE DO NOT RESET ENV UNLESS IT IS \"DONE\"\n",
        "\n",
        "    :returns: return sum of rewards over time and the state in which the env stays\n",
        "\n",
        "    hint: use agent.sample.actions\n",
        "    \"\"\"\n",
        "    s = initial_state\n",
        "    sum_rewards = 0\n",
        "\n",
        "    # Play the game for n_steps as per instructions above\n",
        "    for _ in range(n_steps):\n",
        "        qvalues = agent.get_qvalues([s])\n",
        "\n",
        "        action = agent.sample_actions(qvalues)[0]\n",
        "        # action = action.argmax(axis=-1)[0]\n",
        "        state, reward, done, _, _ = env.step(action)\n",
        "        sum_rewards += reward\n",
        "\n",
        "        exp_replay.add(s, action, reward, state, done)\n",
        "\n",
        "        if done:\n",
        "            state = env.reset()\n",
        "\n",
        "        s = state\n",
        "\n",
        "    return sum_rewards, s"
      ]
    },
    {
      "cell_type": "code",
      "execution_count": null,
      "metadata": {
        "colab": {
          "base_uri": "https://localhost:8080/"
        },
        "id": "18vFK-4lNLo3",
        "outputId": "c8fb7b20-56a9-4a3a-d701-8c4f871cb82c"
      },
      "outputs": [
        {
          "output_type": "stream",
          "name": "stdout",
          "text": [
            "10000\n"
          ]
        }
      ],
      "source": [
        "import utils\n",
        "from warnings import simplefilter\n",
        "\n",
        "simplefilter(\"ignore\", category=UserWarning)\n",
        "\n",
        "REPLAY_BUFFER_SIZE = 10**4\n",
        "\n",
        "exp_replay = ReplayBuffer(REPLAY_BUFFER_SIZE)\n",
        "for i in range(100):\n",
        "    if not utils.is_enough_ram(min_available_gb=0.1):\n",
        "        print(\n",
        "            \"\"\"\n",
        "            Less than 100 Mb RAM available.\n",
        "            Make sure the buffer size in not too huge.\n",
        "            Also check, maybe other processes consume RAM heavily.\n",
        "            \"\"\"\n",
        "        )\n",
        "        break\n",
        "    play_and_record(state, agent, env, exp_replay, n_steps=10**2)\n",
        "    if len(exp_replay) == REPLAY_BUFFER_SIZE:\n",
        "        break\n",
        "print(len(exp_replay))"
      ]
    },
    {
      "cell_type": "code",
      "execution_count": null,
      "metadata": {
        "id": "GbUjeCs2NLo3"
      },
      "outputs": [],
      "source": [
        "import time\n",
        "\n",
        "timesteps_per_epoch = 1\n",
        "batch_size = 32\n",
        "total_steps = 4 * 10**4\n",
        "decay_steps = 1 * 10**4\n",
        "\n",
        "optimizer = torch.optim.Adam(agent.parameters(), lr=1e-4)\n",
        "\n",
        "init_epsilon = 1\n",
        "final_epsilon = 0.1\n",
        "\n",
        "loss_freq = 20\n",
        "refresh_target_network_freq = 100\n",
        "eval_freq = 1000\n",
        "\n",
        "max_grad_norm = 5000\n",
        "\n",
        "mean_rw_history = []\n",
        "td_loss_history = []\n",
        "grad_norm_history = []\n",
        "initial_state_v_history = []\n",
        "step = 0\n",
        "\n",
        "\n",
        "def wait_for_keyboard_interrupt():\n",
        "    try:\n",
        "        while True:\n",
        "            time.sleep(1)\n",
        "    except KeyboardInterrupt:\n",
        "        pass"
      ]
    },
    {
      "cell_type": "code",
      "execution_count": null,
      "metadata": {
        "colab": {
          "base_uri": "https://localhost:8080/",
          "height": 811
        },
        "id": "c5cX49QeNLo4",
        "outputId": "9bbbe9d1-9105-4d6f-d0eb-be7fb4ac2539"
      },
      "outputs": [
        {
          "output_type": "stream",
          "name": "stdout",
          "text": [
            "buffer size = 10000, epsilon = 0.10000\n"
          ]
        },
        {
          "output_type": "display_data",
          "data": {
            "text/plain": [
              "<Figure size 1600x900 with 4 Axes>"
            ],
            "image/png": "[encoded data removed]"
          },
          "metadata": {}
        },
        {
          "output_type": "stream",
          "name": "stderr",
          "text": [
            "\r100%|██████████| 40001/40001 [05:35<00:00, 119.07it/s]\n"
          ]
        }
      ],
      "source": [
        "from tqdm import trange\n",
        "\n",
        "state = env.reset()\n",
        "with trange(step, total_steps + 1) as progress_bar:\n",
        "    for step in progress_bar:\n",
        "        if not utils.is_enough_ram():\n",
        "            print(\"less that 100 Mb RAM available, freezing\")\n",
        "            print(\"make sure everything is ok and use KeyboardInterrupt to continue\")\n",
        "            wait_for_keyboard_interrupt()\n",
        "\n",
        "        agent.epsilon = utils.linear_decay(\n",
        "            init_epsilon, final_epsilon, step, decay_steps\n",
        "        )\n",
        "\n",
        "        # play\n",
        "        _, state = play_and_record(state, agent, env, exp_replay, timesteps_per_epoch)\n",
        "\n",
        "        # train\n",
        "        # sample batch_size of data from experience replay\n",
        "        s, a, r, next_s, is_done = exp_replay.sample(batch_size)\n",
        "        # loss = compute TD loss\n",
        "        loss = compute_td_loss(s, a, r, next_s, is_done, agent, target_network)\n",
        "\n",
        "        loss.backward()\n",
        "        grad_norm = nn.utils.clip_grad_norm_(agent.parameters(), max_grad_norm)\n",
        "        optimizer.step()\n",
        "        optimizer.zero_grad()\n",
        "\n",
        "        if step % loss_freq == 0:\n",
        "            td_loss_history.append(loss.data.cpu().item())\n",
        "            grad_norm_history.append(grad_norm.data.cpu().item())\n",
        "\n",
        "        if step % refresh_target_network_freq == 0:\n",
        "            # Load agent weights into target_network\n",
        "            target_network.load_state_dict(agent.state_dict())\n",
        "\n",
        "        if step % eval_freq == 0:\n",
        "            mean_rw_history.append(\n",
        "                evaluate(make_env(seed=step), agent, n_games=3, greedy=True, t_max=1000)\n",
        "            )\n",
        "            initial_state_q_values = agent.get_qvalues([make_env(seed=step).reset()])\n",
        "            initial_state_v_history.append(np.max(initial_state_q_values))\n",
        "\n",
        "            clear_output(True)\n",
        "            print(\"buffer size = %i, epsilon = %.5f\" % (len(exp_replay), agent.epsilon))\n",
        "\n",
        "            plt.figure(figsize=[16, 9])\n",
        "\n",
        "            plt.subplot(2, 2, 1)\n",
        "            plt.title(\"Mean reward per episode\")\n",
        "            plt.plot(mean_rw_history)\n",
        "            plt.grid()\n",
        "\n",
        "            assert not np.isnan(td_loss_history[-1])\n",
        "            plt.subplot(2, 2, 2)\n",
        "            plt.title(\"TD loss history (smoothened)\")\n",
        "            plt.plot(utils.smoothen(td_loss_history))\n",
        "            plt.grid()\n",
        "\n",
        "            plt.subplot(2, 2, 3)\n",
        "            plt.title(\"Initial state V\")\n",
        "            plt.plot(initial_state_v_history)\n",
        "            plt.grid()\n",
        "\n",
        "            plt.subplot(2, 2, 4)\n",
        "            plt.title(\"Grad norm history (smoothened)\")\n",
        "            plt.plot(utils.smoothen(grad_norm_history))\n",
        "            plt.grid()\n",
        "\n",
        "            plt.show()"
      ]
    },
    {
      "cell_type": "code",
      "execution_count": null,
      "metadata": {
        "colab": {
          "base_uri": "https://localhost:8080/"
        },
        "id": "nKmqj0vINLo4",
        "outputId": "180a586d-82b0-4ead-fd82-fb8d7cb523c3"
      },
      "outputs": [
        {
          "output_type": "stream",
          "name": "stdout",
          "text": [
            "final score: 98.9\n",
            "not good enough for DQN\n"
          ]
        }
      ],
      "source": [
        "final_score = evaluate(make_env(), agent, n_games=30, greedy=True, t_max=1000)\n",
        "print(\"final score:\", final_score)\n",
        "if final_score > 300:\n",
        "    print(\"Well done\")\n",
        "else:\n",
        "    print(\"not good enough for DQN\")"
      ]
    },
    {
      "cell_type": "markdown",
      "source": [
        "### Улучшения DQN\n",
        "\n",
        "**Prioritized Experience Replay**\n",
        "\n",
        "Минибатчи из памяти выбираются не с равномерным распределением, а добавляем туда больше примеров, в которых предсказанные значения $Q$ сильнее всего отличаются от корректных. Т.е. примеры с максимальным **TD error** получают максимальный приоритет.\n",
        "\n",
        "**Dueling networks**\n",
        "\n",
        "Основная идея в том, что мы разделяем нашу сеть на две головы, одна из которых предсказывает абсолютное значение состояния \\\\( V(S) \\\\), а вторая - относительное преимущество одних действий над другими \\\\( A(s, a) = Q(s, a) - V(s) \\\\). Это преимущество называется advantage. Далее из этих двух значений мы собираем нашу Q-функцию, как \\\\( Q(s,a) = V(s) + A(a) \\\\)\n",
        "\n",
        "**Noisy nets**\n",
        "\n",
        "Т.к. по мере обучения агент будет стремиться выбирать состояния с максимальным $Q$, среди уже исследованных, это может помешать ему найти более эффективные состояния, в которых его ещё не было. Одним из решений этой проблемы является использование детерминированной и случайной нейросети, распределение параметров которой так же обучается с помощью градиентного спуска.\n",
        "\n",
        "**Multi-step learning/n-step learning**\n",
        "\n",
        "Основная идея в том, чтобы считать функцию ценности не по двум соседним примерам, а сразу по n. Это позволяет сети лучше запоминать длинные последовательности действий.\n",
        "\n",
        "**Distributional RL**\n",
        "\n",
        "Детерминированное значение $Q$ заменяется случайным распределением $Z$ с некоторыми параметрами, которые определяются в ходе обучения.\n",
        "\n",
        "**Rainbow**\n",
        "\n",
        "State of the art в развитии Q-обучения - набор перечисленных выше твиков. На графике ниже сравнение различных алгоритмов по количеству очков, усреднённое по играм Atari в сравнении со средними результатами человека."
      ],
      "metadata": {
        "id": "EQQpls0fgPSI"
      }
    },
    {
      "cell_type": "markdown",
      "source": [
        "## Сложности RL"
      ],
      "metadata": {
        "id": "leXtKyIugcUD"
      }
    },
    {
      "cell_type": "markdown",
      "source": [
        "### Sample efficiency"
      ],
      "metadata": {
        "id": "5Xpy9J7zgfyc"
      }
    },
    {
      "cell_type": "markdown",
      "source": [
        "Если человек в новых задачах может предоставить относительно адекватный результат почти сразу, модель RL приходится обучать очень долго.\n",
        "\n",
        "Во многом дело в опыте, накопленном человеком. Сейчас пытаются это обойти, используя, например [дообученные GPT в качестве моделей внутри агентов](https://arxiv.org/abs/2201.12122).\n",
        "\n",
        "**Пример:**\n",
        "\n",
        "<img src=\"https://edunet.kea.su/repo/EduNet-web_dependencies/L15/game_gameplay_example.gif\" width=\"400\">\n",
        "\n",
        "Интерфейс понятен человеку, если тайлы заменить на случайные, эффективность человека упадет.\n",
        "\n",
        "<img src=\"https://edunet.kea.su/repo/EduNet-web_dependencies/L15/gameplay_with_broken_interface.gif\" width=\"400\">\n",
        "\n",
        "\n"
      ],
      "metadata": {
        "id": "WMWsyvI3gkVj"
      }
    },
    {
      "cell_type": "markdown",
      "source": [
        "### Reward Shaping"
      ],
      "metadata": {
        "id": "40_E53McgqXQ"
      }
    },
    {
      "cell_type": "markdown",
      "source": [
        "Редкие награды необходимо разбавлять, как мы уже отмечали ранее.\n",
        "\n",
        "Но модель может \"залипнуть\" на получении побочных наград.\n",
        "\n",
        "**Пример 1**:\n",
        "\n",
        "В гонке агент получал очки не только за победу, но и за сбор бонусов. В итоге он начал игнорировать саму гонку.\n",
        "\n",
        "<img src=\"https://edunet.kea.su/repo/EduNet-web_dependencies/L15/local_minimum_coastrunner.gif\" width=\"400\">\n",
        "\n",
        "**Пример 2**\n",
        "Здесь агент пытался уйти как можно дальше от начала, и оказалось, что в самом начале кувырок -- отличная идея.\n",
        "\n",
        "Время шло, а от кувырка агент не отказался, так и ползал на спине.\n",
        "\n",
        "<img src=\"https://edunet.kea.su/repo/EduNet-web_dependencies/L15/upsidedown_half_cheetah.gif\" width=\"400\">\n"
      ],
      "metadata": {
        "id": "DyVWWuPEgqBE"
      }
    },
    {
      "cell_type": "markdown",
      "source": [
        "Хорошая книжка:\n",
        "\n",
        "Sudharsan Ravichandiran Hands-On Reinforcement Learning with Python (Тоже много примеров)\n",
        "\n",
        "Полезные ссылки:\n",
        "* [Deep Reinforcement Learning Doesn't Work Yet](https://www.alexirpan.com/2018/02/14/rl-hard.html)\n",
        "* [Faulty Reward Functions in the Wild](https://openai.com/blog/faulty-reward-functions/)"
      ],
      "metadata": {
        "id": "qXhI-q9xgbYQ"
      }
    }
  ],
  "metadata": {
    "colab": {
      "provenance": [],
      "gpuType": "T4"
    },
    "accelerator": "GPU",
    "language_info": {
      "name": "python"
    },
    "kernelspec": {
      "name": "python3",
      "display_name": "Python 3"
    }
  },
  "nbformat": 4,
  "nbformat_minor": 0
}